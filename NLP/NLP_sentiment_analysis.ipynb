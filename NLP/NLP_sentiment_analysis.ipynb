{
 "cells": [
  {
   "cell_type": "markdown",
   "metadata": {
    "collapsed": true
   },
   "source": [
    "## NLP_sentiment_analysis\n",
    "\n",
    "\n",
    "# Using NLP, spaCy, Random Forest, Logistic Regression, XGBoost\n",
    "# for movie sentiment analysis\n",
    "\n",
    "Kaggle \"Bag of Words Meets Bags of Popcorn\" competition"
   ]
  },
  {
   "cell_type": "code",
   "execution_count": 1,
   "metadata": {
    "collapsed": true,
    "deletable": true,
    "editable": true
   },
   "outputs": [
    {
     "name": "stderr",
     "output_type": "stream",
     "text": [
      "/Users/howardjai/anaconda/envs/dsi/lib/python2.7/site-packages/sklearn/cross_validation.py:44: DeprecationWarning: This module was deprecated in version 0.18 in favor of the model_selection module into which all the refactored classes and functions are moved. Also note that the interface of the new CV iterators are different from that of this module. This module will be removed in 0.20.\n",
      "  \"This module will be removed in 0.20.\", DeprecationWarning)\n",
      "/Users/howardjai/anaconda/envs/dsi/lib/python2.7/site-packages/sklearn/grid_search.py:43: DeprecationWarning: This module was deprecated in version 0.18 in favor of the model_selection module into which all the refactored classes and functions are moved. This module will be removed in 0.20.\n",
      "  DeprecationWarning)\n"
     ]
    }
   ],
   "source": [
    "import pandas as pd\n",
    "import numpy as np\n",
    "import matplotlib.pyplot as plt\n",
    "import seaborn as sns \n",
    "from bs4 import BeautifulSoup\n",
    "import re\n",
    "import nltk\n",
    "from nltk.corpus import stopwords # Import the stop word list\n",
    "from sklearn.feature_extraction.text import CountVectorizer\n",
    "from sklearn.model_selection import train_test_split\n",
    "from sklearn.linear_model import LogisticRegression\n",
    "from sklearn.ensemble import RandomForestClassifier\n",
    "from sklearn.metrics import auc\n",
    "from scipy.stats import gmean\n",
    "\n",
    "import xgboost as xgb\n",
    "from sklearn.grid_search import GridSearchCV\n",
    "\n",
    "%matplotlib inline\n",
    "\n",
    "import KaggleWord2VecUtility"
   ]
  },
  {
   "cell_type": "code",
   "execution_count": 2,
   "metadata": {
    "collapsed": true,
    "deletable": true,
    "editable": true
   },
   "outputs": [],
   "source": [
    "# Set up spaCy\n",
    "from spacy.en import English\n",
    "parser = English()"
   ]
  },
  {
   "cell_type": "code",
   "execution_count": 3,
   "metadata": {
    "collapsed": false,
    "deletable": true,
    "editable": true
   },
   "outputs": [],
   "source": [
    "# Read labeled Training Data - movie reviews\n",
    "# Read Test data - movie reviews\n",
    "train = pd.read_csv('labeledTrainData.tsv', header=0, delimiter='\\t', quoting=3)\n",
    "test = pd.read_csv('testData.tsv', header=0, delimiter='\\t', quoting=3)"
   ]
  },
  {
   "cell_type": "code",
   "execution_count": 7,
   "metadata": {
    "collapsed": false,
    "deletable": true,
    "editable": true
   },
   "outputs": [],
   "source": [
    "negators = [line.strip() for line in file('./negator.txt','r')]\n",
    "    \n",
    "# function to convert raw review to list of words\n",
    "def review_to_words(raw_review):\n",
    "    text = BeautifulSoup(raw_review, \"lxml\").get_text().strip('\\\"') \n",
    "    \n",
    "    letters_only = re.sub('[^a-zA-Z]',\n",
    "                         ' ',\n",
    "                         text)\n",
    "    \n",
    "    words = letters_only.lower().split()       # Convert to lower case\n",
    "    \n",
    "    stops = set(stopwords.words(\"english\"))\n",
    "    \n",
    "    meaningful_words = [w for w in words if not w in stops or w in negators]\n",
    "#    meaningful_words = [w for w in words if not w in stops]\n",
    "\n",
    "#    return(\" \".join(meaningful_words))\n",
    "    return meaningful_words # returns a list of words \n"
   ]
  },
  {
   "cell_type": "code",
   "execution_count": 8,
   "metadata": {
    "collapsed": false,
    "deletable": true,
    "editable": true,
    "scrolled": true
   },
   "outputs": [
    {
     "name": "stdout",
     "output_type": "stream",
     "text": [
      "cleaning review #0 out of 25000\n",
      "cleaning review #1000 out of 25000\n",
      "cleaning review #2000 out of 25000\n",
      "cleaning review #3000 out of 25000\n",
      "cleaning review #4000 out of 25000\n",
      "cleaning review #5000 out of 25000\n",
      "cleaning review #6000 out of 25000\n",
      "cleaning review #7000 out of 25000\n",
      "cleaning review #8000 out of 25000\n",
      "cleaning review #9000 out of 25000\n",
      "cleaning review #10000 out of 25000\n",
      "cleaning review #11000 out of 25000\n",
      "cleaning review #12000 out of 25000\n",
      "cleaning review #13000 out of 25000\n",
      "cleaning review #14000 out of 25000\n",
      "cleaning review #15000 out of 25000\n",
      "cleaning review #16000 out of 25000\n",
      "cleaning review #17000 out of 25000\n",
      "cleaning review #18000 out of 25000\n",
      "cleaning review #19000 out of 25000\n",
      "cleaning review #20000 out of 25000\n",
      "cleaning review #21000 out of 25000\n",
      "cleaning review #22000 out of 25000\n",
      "cleaning review #23000 out of 25000\n",
      "cleaning review #24000 out of 25000\n"
     ]
    }
   ],
   "source": [
    "num_reviews = train.shape[0]\n",
    "\n",
    "clean_train_reviews = []\n",
    "\n",
    "# clean all reviews\n",
    "for i in range(0, num_reviews):\n",
    "    if i % 1000 == 0:\n",
    "        print 'cleaning review #%d out of %d'%(i, num_reviews)\n",
    "    \n",
    "    clean_train_reviews.append(review_to_words(train['review'][i]))"
   ]
  },
  {
   "cell_type": "code",
   "execution_count": 9,
   "metadata": {
    "collapsed": false,
    "deletable": true,
    "editable": true
   },
   "outputs": [
    {
     "name": "stdout",
     "output_type": "stream",
     "text": [
      "vectorizing review #0 of 25000\n",
      "vectorizing review #1000 of 25000\n",
      "vectorizing review #2000 of 25000\n",
      "vectorizing review #3000 of 25000\n",
      "vectorizing review #4000 of 25000\n",
      "vectorizing review #5000 of 25000\n",
      "vectorizing review #6000 of 25000\n",
      "vectorizing review #7000 of 25000\n",
      "vectorizing review #8000 of 25000\n",
      "vectorizing review #9000 of 25000\n",
      "vectorizing review #10000 of 25000\n",
      "vectorizing review #11000 of 25000\n",
      "vectorizing review #12000 of 25000\n",
      "vectorizing review #13000 of 25000\n",
      "vectorizing review #14000 of 25000\n",
      "vectorizing review #15000 of 25000\n",
      "vectorizing review #16000 of 25000\n",
      "vectorizing review #17000 of 25000\n",
      "vectorizing review #18000 of 25000\n",
      "vectorizing review #19000 of 25000\n",
      "vectorizing review #20000 of 25000\n",
      "vectorizing review #21000 of 25000\n",
      "vectorizing review #22000 of 25000\n",
      "vectorizing review #23000 of 25000\n",
      "vectorizing review #24000 of 25000\n"
     ]
    }
   ],
   "source": [
    "review_vectors = []\n",
    "\n",
    "#  create average word vectors\n",
    "for i,review in enumerate(clean_train_reviews):\n",
    "    if i % 1000 == 0:\n",
    "        print 'vectorizing review #{} of {}'.format(i,len(clean_train_reviews))\n",
    "    word_vec_list = []\n",
    "    for word in review:\n",
    "        word_vec_list.append(parser.vocab[word].vector)\n",
    "    \n",
    "    word_vec_matrix = np.matrix(word_vec_list)\n",
    "    del word_vec_list\n",
    "    \n",
    "    review_vectors.append(np.mean(word_vec_matrix, axis=0).tolist()[0])\n",
    "    \n",
    "review_matrix = np.asmatrix(review_vectors)"
   ]
  },
  {
   "cell_type": "code",
   "execution_count": 10,
   "metadata": {
    "collapsed": false
   },
   "outputs": [],
   "source": [
    "# dataframe with movie reviews as average word vectors\n",
    "avg_df = pd.concat(objs=[train[['id','sentiment']],pd.DataFrame(data=review_vectors)], axis=1)"
   ]
  },
  {
   "cell_type": "code",
   "execution_count": 11,
   "metadata": {
    "collapsed": true
   },
   "outputs": [],
   "source": [
    "################# Split Training and Testing models - #######################"
   ]
  },
  {
   "cell_type": "code",
   "execution_count": 12,
   "metadata": {
    "collapsed": true
   },
   "outputs": [],
   "source": [
    "from random import shuffle\n",
    "\n",
    "# function to split dataframe into training and test dataframes\n",
    "def split_train_test( df, test_portion=0.3 ):\n",
    "    # create random list of indices\n",
    "    N = len(df)\n",
    "    l = range(N)\n",
    "    shuffle(l)\n",
    "\n",
    "    # get splitting indicies\n",
    "    trainLen = int(N*(1-test_portion))\n",
    "\n",
    "    # get training and test sets\n",
    "    train = df.ix[l[:trainLen]]\n",
    "    test = df.ix[l[trainLen:]]\n",
    "\n",
    "    return train, test"
   ]
  },
  {
   "cell_type": "code",
   "execution_count": 13,
   "metadata": {
    "collapsed": false
   },
   "outputs": [],
   "source": [
    "# split dataframe into training and test dataframes\n",
    "train_df, test_df = split_train_test(avg_df, test_portion=0.3)"
   ]
  },
  {
   "cell_type": "code",
   "execution_count": 14,
   "metadata": {
    "collapsed": false
   },
   "outputs": [],
   "source": [
    "# Create training and test data\n",
    "\n",
    "X_train = train_df.ix[:, 2:].values\n",
    "y_train = train_df.ix[:, 1].values   #.reshape(1,-1)\n",
    "\n",
    "X_test = test_df.ix[:, 2:].values\n",
    "y_test = test_df.ix[:, 1].values    #.reshape(1,-1)"
   ]
  },
  {
   "cell_type": "code",
   "execution_count": 15,
   "metadata": {
    "collapsed": true
   },
   "outputs": [],
   "source": [
    "#### Random Forest #####\n",
    "# rf = RandomForestClassifier(n_estimators=100,verbose=1) # AUC : 0.8164\n",
    "# rf = RandomForestClassifier(n_estimators=300,verbose=1) # AUC : 0.824"
   ]
  },
  {
   "cell_type": "code",
   "execution_count": 16,
   "metadata": {
    "collapsed": false
   },
   "outputs": [
    {
     "name": "stderr",
     "output_type": "stream",
     "text": [
      "[Parallel(n_jobs=1)]: Done 300 out of 300 | elapsed:  1.2min finished\n",
      "[Parallel(n_jobs=1)]: Done 300 out of 300 | elapsed:    0.8s finished\n"
     ]
    }
   ],
   "source": [
    "# rf = RandomForestClassifier(n_estimators=100,verbose=1) # AUC : 0.8164\n",
    "rf = RandomForestClassifier(n_estimators=300,verbose=1) # AUC : 0.8217\n",
    "\n",
    "forest = rf.fit(X_train, y_train)\n",
    "\n",
    "# test results from RandomForest\n",
    "results = forest.predict(X_test)"
   ]
  },
  {
   "cell_type": "code",
   "execution_count": 17,
   "metadata": {
    "collapsed": false
   },
   "outputs": [
    {
     "data": {
      "text/plain": [
       "<matplotlib.text.Text at 0x1e1d62cd0>"
      ]
     },
     "execution_count": 17,
     "metadata": {},
     "output_type": "execute_result"
    },
    {
     "data": {
      "image/png": "[encoded data removed]",
      "text/plain": [
       "<matplotlib.figure.Figure at 0x1bbb62750>"
      ]
     },
     "metadata": {},
     "output_type": "display_data"
    }
   ],
   "source": [
    "from sklearn.metrics import roc_curve\n",
    "fpr, tpr, thresholds = roc_curve(y_test, results)\n",
    "plt.plot(fpr, tpr)\n",
    "plt.title('ROC Curve')\n",
    "plt.ylabel('TP Rate')\n",
    "plt.xlabel('FP Rate')\n"
   ]
  },
  {
   "cell_type": "code",
   "execution_count": 18,
   "metadata": {
    "collapsed": false
   },
   "outputs": [
    {
     "name": "stdout",
     "output_type": "stream",
     "text": [
      "AUC : 0.8266\n"
     ]
    }
   ],
   "source": [
    "print 'AUC :', round(auc(fpr, tpr), 4)"
   ]
  },
  {
   "cell_type": "code",
   "execution_count": 19,
   "metadata": {
    "collapsed": true
   },
   "outputs": [],
   "source": [
    "#### XGBoost ############\n",
    "# xgbm = xgb.XGBClassifier(max_depth=3, n_estimators=300, learning_rate=0.05) # AUC : 0.8395\n",
    "# xgbm = xgb.XGBClassifier(max_depth=2, n_estimators=300, learning_rate=0.05) # AUC : 0.8301\n",
    "# xgbm = xgb.XGBClassifier(max_depth=3, n_estimators=500, learning_rate=0.05) # AUC : 0.8427"
   ]
  },
  {
   "cell_type": "code",
   "execution_count": 20,
   "metadata": {
    "collapsed": true
   },
   "outputs": [],
   "source": [
    "#### XGBoost ############\n",
    "xgbm = xgb.XGBClassifier(max_depth=3, n_estimators=500, learning_rate=0.05)\n",
    "xgbm.fit(X_train, y_train)\n",
    "xgbm_predictions = xgbm.predict(X_test)"
   ]
  },
  {
   "cell_type": "code",
   "execution_count": 21,
   "metadata": {
    "collapsed": false
   },
   "outputs": [
    {
     "name": "stdout",
     "output_type": "stream",
     "text": [
      "AUC : 0.8536\n"
     ]
    },
    {
     "data": {
      "image/png": "[encoded data removed]",
      "text/plain": [
       "<matplotlib.figure.Figure at 0x1e1d89950>"
      ]
     },
     "metadata": {},
     "output_type": "display_data"
    }
   ],
   "source": [
    "xgbm_fpr, xgbm_tpr, xgbm_thresholds = roc_curve(y_test, xgbm_predictions)\n",
    "plt.plot(xgbm_fpr, xgbm_tpr)\n",
    "plt.title('ROC Curve')\n",
    "plt.ylabel('TP Rate')\n",
    "plt.xlabel('FP Rate')\n",
    "\n",
    "print 'AUC :', round(auc(xgbm_fpr, xgbm_tpr), 4)"
   ]
  },
  {
   "cell_type": "code",
   "execution_count": 22,
   "metadata": {
    "collapsed": false
   },
   "outputs": [
    {
     "name": "stdout",
     "output_type": "stream",
     "text": [
      "AUC : 0.8536\n"
     ]
    }
   ],
   "source": [
    "print 'AUC :', round(auc(xgbm_fpr, xgbm_tpr), 4)"
   ]
  },
  {
   "cell_type": "code",
   "execution_count": 23,
   "metadata": {
    "collapsed": false
   },
   "outputs": [
    {
     "name": "stdout",
     "output_type": "stream",
     "text": [
      "<type 'numpy.ndarray'>\n",
      "(7500,)\n"
     ]
    },
    {
     "data": {
      "text/plain": [
       "1"
      ]
     },
     "execution_count": 23,
     "metadata": {},
     "output_type": "execute_result"
    }
   ],
   "source": [
    "print type(xgbm_predictions)\n",
    "print xgbm_predictions.shape\n",
    "xgbm_predictions[0]"
   ]
  },
  {
   "cell_type": "code",
   "execution_count": 24,
   "metadata": {
    "collapsed": true
   },
   "outputs": [],
   "source": [
    "#### Logistic Regression with Regularation #########\n",
    "# lr = LogisticRegression(penalty='l2') # AUC : 0.8602"
   ]
  },
  {
   "cell_type": "code",
   "execution_count": 25,
   "metadata": {
    "collapsed": false
   },
   "outputs": [],
   "source": [
    "lr = LogisticRegression(penalty='l2')\n",
    "lr.fit(X_train, y_train)\n",
    "lr_predictions = lr.predict(X_test)\n",
    "y_lr_prob = lr.predict_proba(X_test)"
   ]
  },
  {
   "cell_type": "code",
   "execution_count": 26,
   "metadata": {
    "collapsed": false
   },
   "outputs": [
    {
     "name": "stdout",
     "output_type": "stream",
     "text": [
      "AUC : 0.864\n"
     ]
    },
    {
     "data": {
      "image/png": "[encoded data removed]",
      "text/plain": [
       "<matplotlib.figure.Figure at 0x1e1d69590>"
      ]
     },
     "metadata": {},
     "output_type": "display_data"
    }
   ],
   "source": [
    "lr_fpr, lr_tpr, lr_thresholds = roc_curve(y_test, lr_predictions)\n",
    "plt.plot(lr_fpr, lr_tpr)\n",
    "plt.title('ROC Curve')\n",
    "plt.ylabel('TP Rate')\n",
    "plt.xlabel('FP Rate')\n",
    "\n",
    "print 'AUC :', round(auc(lr_fpr, lr_tpr), 4)"
   ]
  },
  {
   "cell_type": "code",
   "execution_count": 27,
   "metadata": {
    "collapsed": true
   },
   "outputs": [],
   "source": [
    "############### END: Split Training and Testing models #######################"
   ]
  },
  {
   "cell_type": "code",
   "execution_count": 28,
   "metadata": {
    "collapsed": true
   },
   "outputs": [],
   "source": [
    "############### FINAL: Full Training and Testing models #######################"
   ]
  },
  {
   "cell_type": "code",
   "execution_count": 29,
   "metadata": {
    "collapsed": true
   },
   "outputs": [],
   "source": [
    "X_train_1 = avg_df.ix[:, 2:].values\n",
    "y_train_1 = avg_df.ix[:, 1].values#.reshape(1,-1)\n",
    "\n",
    "X_test_1 = avg_df.ix[:, 2:].values"
   ]
  },
  {
   "cell_type": "code",
   "execution_count": 30,
   "metadata": {
    "collapsed": false
   },
   "outputs": [
    {
     "name": "stderr",
     "output_type": "stream",
     "text": [
      "[Parallel(n_jobs=1)]: Done 300 out of 300 | elapsed:  1.9min finished\n",
      "[Parallel(n_jobs=1)]: Done 300 out of 300 | elapsed:    2.7s finished\n"
     ]
    }
   ],
   "source": [
    "# ----- RANDOM FOREST ------#\n",
    "#rf = RandomForestClassifier(n_estimators=150, verbose=1, n_jobs=3)\n",
    "rf = RandomForestClassifier(n_estimators=300,verbose=1) # AUC : 0.8217\n",
    "\n",
    "forest = rf.fit(X=X_train_1, y=y_train_1)\n",
    "\n",
    "RF_proba = forest.predict_proba(X=X_test_1)\n"
   ]
  },
  {
   "cell_type": "code",
   "execution_count": 31,
   "metadata": {
    "collapsed": true
   },
   "outputs": [],
   "source": [
    "# ----- XGBOOST ------#\n",
    "#xgbc = xgb.XGBClassifier(n_estimators=100)\n",
    "xgbc = xgb.XGBClassifier(max_depth=3, n_estimators=500, learning_rate=0.05) # AUC : 0.8427\n",
    "\n",
    "xgbc.fit(X=X_train_1, y=y_train_1, verbose=True)\n",
    "\n",
    "XGB_proba = xgbc.predict_proba(X_test_1)\n"
   ]
  },
  {
   "cell_type": "code",
   "execution_count": 32,
   "metadata": {
    "collapsed": true
   },
   "outputs": [],
   "source": [
    "# ----- LOGISTIC REGRESSION ------#\n",
    "#lr = LogisticRegression()\n",
    "lr = LogisticRegression(penalty='l2') # AUC : 0.8602\n",
    "\n",
    "lr.fit(X=X_train_1, y=y_train_1)\n",
    "\n",
    "LR_proba = lr.predict_proba(X_test_1)\n"
   ]
  },
  {
   "cell_type": "code",
   "execution_count": 33,
   "metadata": {
    "collapsed": false
   },
   "outputs": [],
   "source": [
    "#--------- CREATE DATAFRAME --------#\n",
    "from scipy.stats import gmean\n",
    "\n",
    "# create combined ensemble of movie sentiment analysis results\n",
    "#name = 'combined' # note - combined made Kaggle score:  scored 0.49972\n",
    "name = 'LR_RF'\n",
    "mean = 'gmean'\n",
    "# mean = 'amean'\n",
    "\n",
    "if name == 'combined':\n",
    "    proba_class1 = np.matrix((RF_proba[:, 1], LR_proba[:, 1], XGB_proba[:, 1]))\n",
    "elif name == 'LR_RF':\n",
    "    proba_class1 = np.matrix((RF_proba[:, 1], LR_proba[:, 1]))\n",
    "\n",
    "if mean == 'gmean':    \n",
    "    proba_class1 = np.ravel(gmean(proba_class1,axis=0))\n",
    "elif mean == 'amnea':\n",
    "    proba_class1 = np.ravel(np.mean(proba_class1,axis=0))\n",
    "\n",
    "predictions = map(lambda x: 1 if x > 0.5 else 0, proba_class1)\n",
    "\n",
    "\n",
    "result_df = pd.concat(objs=[pd.DataFrame(data=test['id']), pd.DataFrame(predictions)], axis=1)\n",
    "result_df.rename(columns={0:'sentiment'},inplace=True)\n",
    "result_df['id'] = result_df['id'].apply(lambda x: x.strip(\"\\\"\"))\n",
    "\n",
    "# Write prediction results to csv file\n",
    "result_df.to_csv('train_'+ 'spacy_'+ name + '_' + mean + '_predictions.csv', index=False)\n"
   ]
  },
  {
   "cell_type": "code",
   "execution_count": 34,
   "metadata": {
    "collapsed": true
   },
   "outputs": [],
   "source": [
    "#name = 'combined'                 # note - combined made Kaggle score:  scored 0.49972\n",
    "#name = 'LR_RF'  , mean = 'gmean'  # note - combined made Kaggle score:  scored 0.86020"
   ]
  }
 ],
 "metadata": {
  "anaconda-cloud": {},
  "kernelspec": {
   "display_name": "Python [conda env:dsi]",
   "language": "python",
   "name": "conda-env-dsi-py"
  },
  "language_info": {
   "codemirror_mode": {
    "name": "ipython",
    "version": 2
   },
   "file_extension": ".py",
   "mimetype": "text/x-python",
   "name": "python",
   "nbconvert_exporter": "python",
   "pygments_lexer": "ipython2",
   "version": "2.7.12"
  }
 },
 "nbformat": 4,
 "nbformat_minor": 2
}
