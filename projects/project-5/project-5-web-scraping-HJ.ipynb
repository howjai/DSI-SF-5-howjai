{
 "cells": [
  {
   "cell_type": "markdown",
   "metadata": {},
   "source": [
    "<img src=\"http://imgur.com/1ZcRyrc.png\" style=\"float: left; margin: 15px; height: 80px\">\n",
    "\n",
    "# Project 5:  Web Scraping\n",
    "### Finding Underpriced RVs on Craigslist\n",
    "\n",
    "![](https://snag.gy/WrdUMx.jpg)"
   ]
  },
  {
   "cell_type": "markdown",
   "metadata": {},
   "source": [
    "In this project we will be practicing our web scraping skills.  You can use Scrapy or Python requests in order to complete this project.  It may be helpful to write some prototype code in this notebook to test your assumptions, then move it into a Python file that can be run from the command line.\n",
    "\n",
    "> In order to run code from the command line, instead of the notebook, you just need to save your code to a file (with a .py extension), and run it using the Python interpreter:<br><br>\n",
    "> `python my_file.py`\n",
    "\n",
    "You will be building a process to scrape a single category of search results on Craigslist, that can easily be applied to other categories by changing the search terms.  The main goal is to be able to target and scrape a single page given a set of parameters.\n",
    "\n",
    "**If you use Scrapy, provide your code in a folder.**"
   ]
  },
  {
   "cell_type": "markdown",
   "metadata": {},
   "source": [
    "## Import your libraries for scrapy / requests / pandas / numpy / etc\n",
    "Setup whichever libraries you need. Review past material for reference."
   ]
  },
  {
   "cell_type": "code",
   "execution_count": 74,
   "metadata": {
    "collapsed": true
   },
   "outputs": [],
   "source": [
    "# PREPARE REQUIRED LIBRARIES\n",
    "# 1.1-prologue-to-web-scraping\n",
    "# 1.2-web_scraping_1\n",
    "# 1.3-web_scraping_1\n",
    "#\n",
    "# pip install scrapy\n",
    "# pip install --upgrade zope2\n",
    "from scrapy.selector import Selector\n",
    "from scrapy.http import HtmlResponse\n",
    "\n",
    "import requests\n",
    "from bs4 import BeautifulSoup\n",
    "# from lxml import html\n",
    "\n",
    "import pandas as pd\n",
    "import numpy as np\n",
    "import seaborn as sns\n",
    "import matplotlib.pyplot as plt\n",
    "\n",
    "%matplotlib inline"
   ]
  },
  {
   "cell_type": "markdown",
   "metadata": {},
   "source": [
    "<img src=\"http://imgur.com/l5NasQj.png\" style=\"float: left; margin: 25px 15px 0px 0px; height: 25px\">\n",
    "\n",
    "## 1.  Scrape for the largest US cities (non-exhaustive list)\n",
    "Search, research, and scrape Wikipedia for a list of the largest US cities.  There are a few sources but find one that is in a nice table.  We don't want all cities, just signifficant cities.  Examine your source.  Look for what can be differentiable.\n",
    "\n",
    "- Use requests\n",
    "- Build XPath query(ies)\n",
    "- Extract to a list\n",
    "- Clean your list"
   ]
  },
  {
   "cell_type": "code",
   "execution_count": 26,
   "metadata": {
    "collapsed": false
   },
   "outputs": [
    {
     "data": {
      "text/plain": [
       "u'<!DOCTYPE html>\\n<html class=\"client-nojs\" lang=\"en\" dir=\"ltr\">\\n<head>\\n<meta charset=\"UTF-8\"/>\\n<title>List of United States cities by population - Wiki'"
      ]
     },
     "execution_count": 26,
     "metadata": {},
     "output_type": "execute_result"
    }
   ],
   "source": [
    "# SCRAPE WIKIPEDIA FOR LARGEST US CITIES (NON-EXHAUSTIVE LIST)\n",
    "\n",
    "response = requests.get(\"https://en.wikipedia.org/wiki/List_of_United_States_cities_by_population\")\n",
    "HTML = response.text  \n",
    "HTML[0:150]     # view the first 500 characters of the HTML index document for wikipedia     "
   ]
  },
  {
   "cell_type": "code",
   "execution_count": 27,
   "metadata": {
    "collapsed": false
   },
   "outputs": [
    {
     "data": {
      "text/plain": [
       "[u'New York',\n",
       " u'Los Angeles',\n",
       " u'Chicago',\n",
       " u'Houston',\n",
       " u'Philadelphia',\n",
       " u'Jacksonville',\n",
       " u'Charlotte',\n",
       " u'Seattle',\n",
       " u'Detroit',\n",
       " u'Memphis',\n",
       " u'Portland',\n",
       " u'Las Vegas',\n",
       " u'Baltimore',\n",
       " u'Louisville',\n",
       " u'Milwaukee',\n",
       " u'Albuquerque',\n",
       " u'Kansas City',\n",
       " u'Virginia Beach',\n",
       " u'Omaha',\n",
       " u'Minneapolis',\n",
       " u'Wichita',\n",
       " u'New Orleans',\n",
       " u'Anchorage',\n",
       " u'Newark',\n",
       " u'Birmingham',\n",
       " u'Sioux Falls',\n",
       " u'Bridgeport',\n",
       " u'Fargo',\n",
       " u'Billings',\n",
       " u'Manchester']"
      ]
     },
     "execution_count": 27,
     "metadata": {},
     "output_type": "execute_result"
    }
   ],
   "source": [
    "cities = Selector(text=HTML).xpath('//tr/td[2]/i/a/text()').extract()\n",
    "cities # the first cities"
   ]
  },
  {
   "cell_type": "markdown",
   "metadata": {},
   "source": [
    "<img src=\"http://imgur.com/xDpSobf.png\" style=\"float: left; margin: 25px 15px 0px 0px; height: 25px\">\n",
    "\n",
    "## 1.2 Only retain cities with properly formed ASCII\n",
    "\n",
    "Optionally, filter out any cities with impropper ASCII characters.  A smaller list will be easier to look at.  However you may not need to filter these if you spend more time scraping a more concise city list.  This list should help you narrow down the list of regional Craigslist sites."
   ]
  },
  {
   "cell_type": "code",
   "execution_count": 2,
   "metadata": {
    "collapsed": true
   },
   "outputs": [],
   "source": [
    "# ONLY RETAIN PROPERLY FORMED CITIES WITH FILTERING FUNCTION\n"
   ]
  },
  {
   "cell_type": "markdown",
   "metadata": {},
   "source": [
    "<img src=\"http://imgur.com/l5NasQj.png\" style=\"float: left; margin: 25px 15px 0px 0px; height: 25px\">\n",
    "\n",
    "## 2.  Write a function to capture current pricing information via Craigslist in one city.\n",
    "Choose a city from your scraped data, then go to the cooresponding city section on Craigslist, searching for \"rv\" in the auto section.  Write a method that pulls out the prices."
   ]
  },
  {
   "cell_type": "code",
   "execution_count": null,
   "metadata": {
    "collapsed": true
   },
   "outputs": [],
   "source": [
    "# rv_url = \"https://losangeles.craigslist.org/search/rva\"\n",
    "# rv_url = \"https://losangeles.craigslist.org/search/sss?query=rv\""
   ]
  },
  {
   "cell_type": "code",
   "execution_count": 44,
   "metadata": {
    "collapsed": false
   },
   "outputs": [
    {
     "name": "stdout",
     "output_type": "stream",
     "text": [
      "\n",
      "First part of HTML document fetched as string:\n",
      "\n",
      "﻿<!DOCTYPE html>\n",
      "\n",
      "<html class=\"no-js\"><head>\n",
      "    <title>los angeles for sale &quot;rv&quot; - craigslist</title>\n",
      "\n",
      "    <meta name=\"description\" content=\"los angeles for sale &quot;rv&quot; - craigslist\">\n",
      "    <meta http-equiv=\"X-UA-Compatible\" content=\"IE=Edge\"/>\n",
      "    <link rel=\"canonical\" href=\"https://losangeles.craigslist.org/search/sss\">\n",
      "    <link rel=\"alternate\" type=\"application/rss+xml\" href=\"https://losangeles.craigslist.org/search/sss?format=rss&amp;query=rv\" title=\"RSS feed for craigslist\n",
      "\n",
      "$60\n"
     ]
    }
   ],
   "source": [
    "# One Way to get Price Info #########\n",
    "\n",
    "rv_url = \"https://losangeles.craigslist.org/search/sss?query=rv\"\n",
    "response = requests.get(rv_url)\n",
    "\n",
    "# Pull HTML string out of requests\n",
    "rv_html = response.text\n",
    "\n",
    "# The first 500 characters of the content\n",
    "print \"\\nFirst part of HTML document fetched as string:\\n\"\n",
    "print rv_html[:500]\n",
    "\n",
    "# Step 2: Parse HTML document with Beautiful Soup\n",
    "soup = BeautifulSoup(rv_html)\n",
    "\n",
    "price_search = soup.findAll('span', {\"class\": \"result-price\"})\n",
    "\n",
    "print\n",
    "print price_search[0].text\n"
   ]
  },
  {
   "cell_type": "code",
   "execution_count": 45,
   "metadata": {
    "collapsed": false
   },
   "outputs": [],
   "source": [
    "# Another Way to get Price Info  using a function #########\n",
    "# rv_url = \"https://losangeles.craigslist.org/search/sss?query=rv\"\n",
    "# xpath = //li[@class='result-row']/p[@class='result-info']/span[@class='result-meta']/span[@class='result-price']/text()\n",
    "\n",
    "def get_rv_prices(city):\n",
    "    rv_url = \"https://\"+city+\".craigslist.org/search/sss?query=rv\"\n",
    "    response = requests.get(rv_url)\n",
    "\n",
    "    # Pull HTML string out of requests\n",
    "    rv_html = response.text\n",
    "    \n",
    "    rv_xpath = \"//li[@class='result-row']/p[@class='result-info']/span[@class='result-meta']/span[@class='result-price']/text()\"\n",
    "    rv_prices = Selector(text=rv_html).xpath(rv_xpath).extract()\n",
    "    rv_prices_df = pd.DataFrame(rv_prices)\n",
    "    return rv_prices_df    # return prices \n",
    "    \n",
    "    \n",
    "la_rv_prices_df = get_rv_prices(\"losangeles\")\n",
    "\n"
   ]
  },
  {
   "cell_type": "code",
   "execution_count": 46,
   "metadata": {
    "collapsed": false
   },
   "outputs": [
    {
     "data": {
      "text/html": [
       "<div>\n",
       "<table border=\"1\" class=\"dataframe\">\n",
       "  <thead>\n",
       "    <tr style=\"text-align: right;\">\n",
       "      <th></th>\n",
       "      <th>0</th>\n",
       "    </tr>\n",
       "  </thead>\n",
       "  <tbody>\n",
       "    <tr>\n",
       "      <th>0</th>\n",
       "      <td>$60</td>\n",
       "    </tr>\n",
       "    <tr>\n",
       "      <th>1</th>\n",
       "      <td>$60</td>\n",
       "    </tr>\n",
       "    <tr>\n",
       "      <th>2</th>\n",
       "      <td>$50</td>\n",
       "    </tr>\n",
       "    <tr>\n",
       "      <th>3</th>\n",
       "      <td>$50</td>\n",
       "    </tr>\n",
       "    <tr>\n",
       "      <th>4</th>\n",
       "      <td>$60</td>\n",
       "    </tr>\n",
       "  </tbody>\n",
       "</table>\n",
       "</div>"
      ],
      "text/plain": [
       "     0\n",
       "0  $60\n",
       "1  $60\n",
       "2  $50\n",
       "3  $50\n",
       "4  $60"
      ]
     },
     "execution_count": 46,
     "metadata": {},
     "output_type": "execute_result"
    }
   ],
   "source": [
    "la_rv_prices_df.head()"
   ]
  },
  {
   "cell_type": "markdown",
   "metadata": {},
   "source": [
    "<img src=\"http://imgur.com/l5NasQj.png\" style=\"float: left; margin: 25px 15px 0px 0px; height: 25px\">\n",
    "\n",
    "## 2.1 Create a mapping of cities to cooresponding regional Craigslist URLs\n",
    "\n",
    "Major US cities on Craigslist typically have their own cooresponding section (ie: SFBay Area, NYC, Boston, Miami, Seattle, etc).  Later, you will use these to query search results for various metropolitian regions listed on Craigslist.  Between the major metropolitan Craigslist sites, the only thing that will differ is the URL's that correspond to them.\n",
    "\n",
    "The point of the \"mapping\":  Create a data structure that allows you to iterate with both the name of the city from Wikipedia, with the cooresponding variable that that will allow you to construct each craigslist URL for each region.\n",
    "\n",
    "> For San Francsico (the Bay Area metropolitan area), the url for the RV search result is:\n",
    "> http://sfbay.craigslist.org/search/sss?query=rv\n",
    ">\n",
    "> The convention is http://[region].craigslist.org/search/sss?query=rf\n",
    "> Replacing [region] with the cooresponding city name will allow you to quickly iterate through each regional Craigslist site, and scrape the prices from the search results.  Keep this in mind while you build this \"mapping\".\n"
   ]
  },
  {
   "cell_type": "code",
   "execution_count": 50,
   "metadata": {
    "collapsed": true
   },
   "outputs": [],
   "source": [
    "# Mapping of US cities to regional Craigslist site\n",
    "us_cities_mapping = {\n",
    "    \"New York\":\"newyork\",\n",
    "    \"Los Angeles\":\"losangeles\",\n",
    "    \"Chicago\":\"chicago\",\n",
    "    \"Houston\":\"houston\",\n",
    "    \"Philadelphia\":\"philadelphia\",\n",
    "    \"Phoenix\":\"phoenix\",\n",
    "    \"San Antonio\":\"sanantonio\",\n",
    "    \"San Diego\":\"sandiego\",\n",
    "    \"Dallas\":\"dallas\",\n",
    "    \"San Jose\":\"sfbay\"\n",
    "}\n",
    "\n"
   ]
  },
  {
   "cell_type": "code",
   "execution_count": null,
   "metadata": {
    "collapsed": false
   },
   "outputs": [],
   "source": []
  },
  {
   "cell_type": "markdown",
   "metadata": {},
   "source": [
    "<img src=\"http://imgur.com/l5NasQj.png\" style=\"float: left; margin: 25px 15px 0px 0px; height: 25px\">\n",
    "\n",
    "## 3. Define a function to caculate mean and median price per city.\n",
    "\n",
    "Now that you've created a list of cities you want to scrape, adapt your solution for grabbing data in one region site, to grab data for all regional sites that you collected, then calculate the mean and median price of RV results from each city.\n",
    "\n",
    "> Look at the URLs from a few different regions (ie: portland, phoenix, sfbay), and find what they have in common.  Determine the area in the URL string that needs to change the least, and figure out how to replace only that portion of the URL in order to iterate through each city."
   ]
  },
  {
   "cell_type": "code",
   "execution_count": 68,
   "metadata": {
    "collapsed": true
   },
   "outputs": [],
   "source": [
    "# function to caculate mean and median price per city\n",
    "def get_rv_prices_mean_median(us_cities_mapping):\n",
    "    rv_prices_mean_med_df = pd.DataFrame()\n",
    "    \n",
    "    for key in us_cities_mapping:\n",
    "        rv_url = \"https://\"+us_cities_mapping[key]+\".craigslist.org/search/sss?query=rv\"\n",
    "        print rv_url\n",
    "        response = requests.get(rv_url)\n",
    "\n",
    "        # Pull HTML string out of requests\n",
    "        rv_html = response.text\n",
    "        rv_xpath = \"//li[@class='result-row']/p[@class='result-info']/span[@class='result-meta']/span[@class='result-price']/text()\"\n",
    "        rv_prices = Selector(text=rv_html).xpath(rv_xpath).extract()\n",
    "        rv_prices_df = pd.DataFrame(rv_prices, columns = [\"prices\"])\n",
    "        rv_prices_df[\"city\"] = key\n",
    "        rv_prices_mean_med_df = pd.concat([rv_prices_mean_med_df,rv_prices_df] ) # concat cities prices \n",
    "    rv_prices_mean_med_df['prices'] = rv_prices_mean_med_df['prices'].map(lambda x:float(x.strip('$'))) #strips the $ and converts into floats\n",
    "    return rv_prices_mean_med_df    # return prices "
   ]
  },
  {
   "cell_type": "code",
   "execution_count": 70,
   "metadata": {
    "collapsed": false
   },
   "outputs": [
    {
     "name": "stdout",
     "output_type": "stream",
     "text": [
      "https://dallas.craigslist.org/search/sss?query=rv\n",
      "https://houston.craigslist.org/search/sss?query=rv\n",
      "https://newyork.craigslist.org/search/sss?query=rv\n",
      "https://phoenix.craigslist.org/search/sss?query=rv\n",
      "https://losangeles.craigslist.org/search/sss?query=rv\n",
      "https://chicago.craigslist.org/search/sss?query=rv\n",
      "https://sfbay.craigslist.org/search/sss?query=rv\n",
      "https://sandiego.craigslist.org/search/sss?query=rv\n",
      "https://philadelphia.craigslist.org/search/sss?query=rv\n",
      "https://sanantonio.craigslist.org/search/sss?query=rv\n"
     ]
    },
    {
     "data": {
      "text/html": [
       "<div>\n",
       "<table border=\"1\" class=\"dataframe\">\n",
       "  <thead>\n",
       "    <tr>\n",
       "      <th></th>\n",
       "      <th colspan=\"2\" halign=\"left\">prices</th>\n",
       "    </tr>\n",
       "    <tr>\n",
       "      <th></th>\n",
       "      <th>mean</th>\n",
       "      <th>median</th>\n",
       "    </tr>\n",
       "    <tr>\n",
       "      <th>city</th>\n",
       "      <th></th>\n",
       "      <th></th>\n",
       "    </tr>\n",
       "  </thead>\n",
       "  <tbody>\n",
       "    <tr>\n",
       "      <th>Chicago</th>\n",
       "      <td>8479.180851</td>\n",
       "      <td>450.0</td>\n",
       "    </tr>\n",
       "    <tr>\n",
       "      <th>Dallas</th>\n",
       "      <td>25318.166667</td>\n",
       "      <td>14995.0</td>\n",
       "    </tr>\n",
       "    <tr>\n",
       "      <th>Houston</th>\n",
       "      <td>23595.484848</td>\n",
       "      <td>5850.0</td>\n",
       "    </tr>\n",
       "    <tr>\n",
       "      <th>Los Angeles</th>\n",
       "      <td>13947.527273</td>\n",
       "      <td>359.0</td>\n",
       "    </tr>\n",
       "    <tr>\n",
       "      <th>New York</th>\n",
       "      <td>8513.933962</td>\n",
       "      <td>1750.0</td>\n",
       "    </tr>\n",
       "    <tr>\n",
       "      <th>Philadelphia</th>\n",
       "      <td>14691.373737</td>\n",
       "      <td>8900.0</td>\n",
       "    </tr>\n",
       "    <tr>\n",
       "      <th>Phoenix</th>\n",
       "      <td>20231.185567</td>\n",
       "      <td>5850.0</td>\n",
       "    </tr>\n",
       "    <tr>\n",
       "      <th>San Antonio</th>\n",
       "      <td>12956.500000</td>\n",
       "      <td>5500.0</td>\n",
       "    </tr>\n",
       "    <tr>\n",
       "      <th>San Diego</th>\n",
       "      <td>29798.586538</td>\n",
       "      <td>3950.0</td>\n",
       "    </tr>\n",
       "    <tr>\n",
       "      <th>San Jose</th>\n",
       "      <td>12970.752941</td>\n",
       "      <td>7750.0</td>\n",
       "    </tr>\n",
       "  </tbody>\n",
       "</table>\n",
       "</div>"
      ],
      "text/plain": [
       "                    prices         \n",
       "                      mean   median\n",
       "city                               \n",
       "Chicago        8479.180851    450.0\n",
       "Dallas        25318.166667  14995.0\n",
       "Houston       23595.484848   5850.0\n",
       "Los Angeles   13947.527273    359.0\n",
       "New York       8513.933962   1750.0\n",
       "Philadelphia  14691.373737   8900.0\n",
       "Phoenix       20231.185567   5850.0\n",
       "San Antonio   12956.500000   5500.0\n",
       "San Diego     29798.586538   3950.0\n",
       "San Jose      12970.752941   7750.0"
      ]
     },
     "execution_count": 70,
     "metadata": {},
     "output_type": "execute_result"
    }
   ],
   "source": [
    "rv_prices_mean_med_df = get_rv_prices_mean_median(us_cities_mapping) # call funtion to get prices per city\n",
    "\n",
    "rv_prices_mean_med_df.groupby('city').agg(['mean','median'])  # Get mean and median prices per city"
   ]
  },
  {
   "cell_type": "code",
   "execution_count": null,
   "metadata": {
    "collapsed": true
   },
   "outputs": [],
   "source": []
  },
  {
   "cell_type": "markdown",
   "metadata": {},
   "source": [
    "<img src=\"http://imgur.com/l5NasQj.png\" style=\"float: left; margin: 25px 15px 0px 0px; height: 25px\">\n",
    "\n",
    "## 4. Run your scraping process, and save your results to a CSV file."
   ]
  },
  {
   "cell_type": "code",
   "execution_count": 71,
   "metadata": {
    "collapsed": false,
    "scrolled": true
   },
   "outputs": [],
   "source": [
    "# save your results to a CSV file\n",
    "rv_prices_mean_med_df.to_csv('rv_prices_mean_med.csv')"
   ]
  },
  {
   "cell_type": "markdown",
   "metadata": {},
   "source": [
    "<img src=\"http://imgur.com/l5NasQj.png\" style=\"float: left; margin: 25px 15px 0px 0px; height: 25px\">\n",
    "\n",
    "## 5. Do an analysis of the RV market.\n",
    "\n",
    "Go head we'll wait.  Anything notable about the data?"
   ]
  },
  {
   "cell_type": "code",
   "execution_count": 77,
   "metadata": {
    "collapsed": false
   },
   "outputs": [
    {
     "data": {
      "text/html": [
       "<div>\n",
       "<table border=\"1\" class=\"dataframe\">\n",
       "  <thead>\n",
       "    <tr>\n",
       "      <th></th>\n",
       "      <th colspan=\"2\" halign=\"left\">prices</th>\n",
       "    </tr>\n",
       "    <tr>\n",
       "      <th></th>\n",
       "      <th>mean</th>\n",
       "      <th>median</th>\n",
       "    </tr>\n",
       "    <tr>\n",
       "      <th>city</th>\n",
       "      <th></th>\n",
       "      <th></th>\n",
       "    </tr>\n",
       "  </thead>\n",
       "  <tbody>\n",
       "    <tr>\n",
       "      <th>Chicago</th>\n",
       "      <td>8479.180851</td>\n",
       "      <td>450.0</td>\n",
       "    </tr>\n",
       "    <tr>\n",
       "      <th>Dallas</th>\n",
       "      <td>25318.166667</td>\n",
       "      <td>14995.0</td>\n",
       "    </tr>\n",
       "    <tr>\n",
       "      <th>Houston</th>\n",
       "      <td>23595.484848</td>\n",
       "      <td>5850.0</td>\n",
       "    </tr>\n",
       "    <tr>\n",
       "      <th>Los Angeles</th>\n",
       "      <td>13947.527273</td>\n",
       "      <td>359.0</td>\n",
       "    </tr>\n",
       "    <tr>\n",
       "      <th>New York</th>\n",
       "      <td>8513.933962</td>\n",
       "      <td>1750.0</td>\n",
       "    </tr>\n",
       "    <tr>\n",
       "      <th>Philadelphia</th>\n",
       "      <td>14691.373737</td>\n",
       "      <td>8900.0</td>\n",
       "    </tr>\n",
       "    <tr>\n",
       "      <th>Phoenix</th>\n",
       "      <td>20231.185567</td>\n",
       "      <td>5850.0</td>\n",
       "    </tr>\n",
       "    <tr>\n",
       "      <th>San Antonio</th>\n",
       "      <td>12956.500000</td>\n",
       "      <td>5500.0</td>\n",
       "    </tr>\n",
       "    <tr>\n",
       "      <th>San Diego</th>\n",
       "      <td>29798.586538</td>\n",
       "      <td>3950.0</td>\n",
       "    </tr>\n",
       "    <tr>\n",
       "      <th>San Jose</th>\n",
       "      <td>12970.752941</td>\n",
       "      <td>7750.0</td>\n",
       "    </tr>\n",
       "  </tbody>\n",
       "</table>\n",
       "</div>"
      ],
      "text/plain": [
       "                    prices         \n",
       "                      mean   median\n",
       "city                               \n",
       "Chicago        8479.180851    450.0\n",
       "Dallas        25318.166667  14995.0\n",
       "Houston       23595.484848   5850.0\n",
       "Los Angeles   13947.527273    359.0\n",
       "New York       8513.933962   1750.0\n",
       "Philadelphia  14691.373737   8900.0\n",
       "Phoenix       20231.185567   5850.0\n",
       "San Antonio   12956.500000   5500.0\n",
       "San Diego     29798.586538   3950.0\n",
       "San Jose      12970.752941   7750.0"
      ]
     },
     "execution_count": 77,
     "metadata": {},
     "output_type": "execute_result"
    }
   ],
   "source": [
    "# Get mean and median prices per city\n",
    "rv_prices_mean_med_df.groupby('city').agg(['mean','median'])  "
   ]
  },
  {
   "cell_type": "code",
   "execution_count": 80,
   "metadata": {
    "collapsed": false
   },
   "outputs": [
    {
     "data": {
      "text/plain": [
       "<matplotlib.axes._subplots.AxesSubplot at 0x117d15c10>"
      ]
     },
     "execution_count": 80,
     "metadata": {},
     "output_type": "execute_result"
    },
    {
     "data": {
      "image/png": "[encoded data removed]",
      "text/plain": [
       "<matplotlib.figure.Figure at 0x117d15b90>"
      ]
     },
     "metadata": {},
     "output_type": "display_data"
    }
   ],
   "source": [
    "# Plot cities mean and median prices\n",
    "\n",
    "rv_prices_mean_med_df.groupby('city').agg(['mean','median']).plot(kind = 'barh')\n"
   ]
  },
  {
   "cell_type": "code",
   "execution_count": 79,
   "metadata": {
    "collapsed": false
   },
   "outputs": [
    {
     "data": {
      "image/png": "[encoded data removed]",
      "text/plain": [
       "<matplotlib.figure.Figure at 0x117dc2990>"
      ]
     },
     "metadata": {},
     "output_type": "display_data"
    }
   ],
   "source": [
    "# Plot cities mean and median prices\n",
    "\n",
    "fig = plt.figure(figsize=(10,9))\n",
    "ax = fig.gca()\n",
    "rv_prices_mean_med_df.groupby('city').agg(['mean','median']).plot.barh(ax=ax, color=['blue','green'])\n",
    "ax.set_ylabel('Top US Cities by Population')\n",
    "ax.set_xlabel('RV Prices')\n",
    "ax.legend(['Mean','Median'])\n",
    "plt.show()"
   ]
  },
  {
   "cell_type": "markdown",
   "metadata": {
    "collapsed": true
   },
   "source": [
    "<img src=\"http://imgur.com/l5NasQj.png\" style=\"float: left; margin: 25px 15px 0px 0px; height: 25px\">\n",
    "\n",
    "### 5.1 Does it makes sense to buy RVs in one region and sell them in another?\n",
    "\n",
    "Assuming the cost of shipping or driving from one regional market to another."
   ]
  },
  {
   "cell_type": "code",
   "execution_count": null,
   "metadata": {
    "collapsed": true
   },
   "outputs": [],
   "source": [
    "# It looks like that the difference in some regions prices is large enough to buy\n",
    "# in one region and sell them in another"
   ]
  },
  {
   "cell_type": "markdown",
   "metadata": {},
   "source": [
    "<img src=\"http://imgur.com/xDpSobf.png\" style=\"float: left; margin: 25px 15px 0px 0px; height: 25px\">\n",
    "\n",
    "### 5.2 Can you pull out the \"make\" from the markup and include that in your analyis?\n",
    "How reliable is this data and does it make sense?"
   ]
  },
  {
   "cell_type": "code",
   "execution_count": null,
   "metadata": {
    "collapsed": true
   },
   "outputs": [],
   "source": []
  },
  {
   "cell_type": "markdown",
   "metadata": {},
   "source": [
    "<img src=\"http://imgur.com/xDpSobf.png\" style=\"float: left; margin: 25px 15px 0px 0px; height: 25px\">\n",
    "\n",
    "### 5.3 Are there any other variables you could pull out of the markup to help describe your dataset?"
   ]
  },
  {
   "cell_type": "code",
   "execution_count": null,
   "metadata": {
    "collapsed": true
   },
   "outputs": [],
   "source": []
  },
  {
   "cell_type": "markdown",
   "metadata": {},
   "source": [
    "<img src=\"http://imgur.com/xDpSobf.png\" style=\"float: left; margin: 25px 15px 0px 0px; height: 25px\">\n",
    "\n",
    "## 6. Move your project into scrapy (if you haven't used Scrapy yet)\n",
    "\n",
    ">Start a project by using the command `scrapy startproject [projectname]`\n",
    "> - Update your settings.py (review our past example)\n",
    "> - Update your items.py\n",
    "> - Create a spiders file in your `[project_name]/[project_name]/spiders` directory\n",
    "\n",
    "You can update your spider class with the complete list of craigslist \"start urls\" to effectively scrape all of the regions.  Start with one to test.\n",
    "\n",
    "Updating your parse method with the method you chose should require minimal changes.  It will require you to update your parse method to use the response parameter, and an item model (defined in items.py)."
   ]
  },
  {
   "cell_type": "code",
   "execution_count": null,
   "metadata": {
    "collapsed": true
   },
   "outputs": [],
   "source": []
  },
  {
   "cell_type": "markdown",
   "metadata": {},
   "source": [
    "<img src=\"http://imgur.com/GCAf1UX.png\" style=\"float: left; margin: 25px 15px 0px 0px; height: 25px\">\n",
    "\n",
    "## 7.  Chose another area of Craigslist to scrape.\n",
    "\n",
    "**Choose an area having more than a single page of results, then scrape multiple regions, multiple pages of search results and or details pages.**\n",
    "\n",
    "This is the true exercise of being able to understand how to succesffuly plan, develop, and employ a broader scraping strategy.  Even though this seems like a challenging task, a few tweeks of your current code can make this very managable if you've pieced together all the touch points.  If you are still confused as to some of the milestones within this process, this is an excellent opportunity to round out your understanding, or help you build a list of questions to fill in your gaps.\n",
    "\n",
    "_Use Scrapy!  Provide your code in this project directory when you submit this project._"
   ]
  },
  {
   "cell_type": "markdown",
   "metadata": {
    "collapsed": true
   },
   "source": [
    "## Optional: Interview Questions\n",
    "\n",
    "---- \n",
    "\n",
    "### SQL Practice\n",
    "\n",
    "1)\n",
    "We have a deliveries table with 3000 rows\n",
    "\n",
    "`SELECT * FROM deliveries; \n",
    "-- 3000 rows in set (0.05 sec) `\n",
    "\n",
    "15 of those orders are from a customer with the customer_id_number=32\n",
    "\n",
    "`SELECT * FROM deliveries WHERE customer_id_number = 32;\n",
    "-- 15 rows in set (0.10 sec)`\n",
    "\n",
    "Yet, when we SELECT the number of orders that are not from customer_id_number = 32, we only get 2960 results:\n",
    "\n",
    "`SELECT * FROM deliveries WHERE customer_id_number <> 32;\n",
    "-- 2960 rows in set (0.11 sec)`\n",
    "\n",
    "**Question: What’s wrong? And why might this be the case? Modify your code to fix this. **\n",
    "\n",
    "2) Construct the following tables:\n",
    "\n",
    "`mysql> SELECT * FROM Employee;\n",
    "+--------+----------+--------+\n",
    "| emp_id | emp_name | salary |\n",
    "+--------+----------+--------+\n",
    "| 1      | James    |   2000 |\n",
    "| 2      | Jack     |   4000 |\n",
    "| 3      | Henry    |   6000 |\n",
    "| 4      | Tom      |   8000 |\n",
    "+--------+----------+--------+\n",
    "4 rows IN SET (0.00 sec)`\n",
    "\n",
    "\n",
    "`mysql> SELECT * FROM Department;\n",
    "+---------+-----------+\n",
    "| dept_id | dept_name |\n",
    "+---------+-----------+\n",
    "| 101     | Sales     |\n",
    "| 102     | Marketing |\n",
    "| 103     | Finance   |\n",
    "| 104     | Accounting   |\n",
    "+---------+-----------+\n",
    "3 rows IN SET (0.00 sec)`\n",
    "\n",
    "\n",
    "`mysql> SELECT * FROM Register;\n",
    "+--------+---------+\n",
    "| emp_id | dept_id |\n",
    "+--------+---------+\n",
    "|      1 |     101 |\n",
    "|      2 |     102 |\n",
    "|      3 |     103 |\n",
    "|      4 |     102 |\n",
    "+--------+---------+\n",
    "4 rows IN SET (0.00 sec)`\n",
    "\n",
    "** Questions: ** \n",
    "- Which employees belong to which department? Show this using one line of code (hint: more than one join) \n",
    "- What is the total marketing salary? \n",
    "- Using a join, can you show that there are no employees in accounting? \n",
    "\n",
    "\n",
    "\n",
    "3) Given an Employee table which has 3 fields – Id (Primary key), Salary and Manager Id, where manager id is the id of the employee that manages the current employee, find all employees that make more than their manager in terms of salary. Create the table and write the code that finds this\n",
    "\n",
    "\n",
    "--- \n",
    "### Predictive Modeling\n",
    "\n",
    "- What are some differences you would expect in a regression model that minimizes squared error, versus a model that minimizes absolute error? In which cases would each error  metric be appropriate?\n",
    "\n",
    "- What error metric would you use to evaluate how good a binary classifier is? What if the classes are imbalanced?  What if there are more than 2 groups?\n",
    "\n",
    "- What are various ways to predict a binary response variable? Can you compare two of them and tell me when one would be more appropriate? What’s the difference logistic regression and SVMs? \n",
    "\n",
    "- What is the difference between the loss functions used by SVMs and Logistic Regression? \n",
    "\n",
    "- What is R-squared? What are some other metrics that could be better than R-squared and why?\n",
    "\n",
    "- You run your regression on different subsets of your data, and find that in each subset, the beta value for a certain variable varies wildly. What could be the issue here?\n",
    "\n",
    "\n",
    "--- \n",
    "### Coding Questions \n",
    "\n",
    "- Given a sorted array and a number x, find a pair in array whose sum is closest to x. What is the time complexity of your algorithm? \n",
    "    \n",
    "    `Examples:`\n",
    "        Input: arr[] = {10, 22, 28, 29, 30, 40}, x = 54\n",
    "        Output: 22 and 30\n",
    "\n",
    "        Input: arr[] = {1, 3, 4, 7, 10}, x = 15\n",
    "        Output: 4 and 10\n",
    "        \n",
    "- Check out this video on Linear Time Algorithm for finding the median: https://www.youtube.com/watch?v=_xntajCBLoE. Implement your version of this algorithm in Python. \n",
    "\n",
    "- Search in an almost sorted array: Given an array which is sorted, but after sorting some elements are moved to either of the adjacent positions, i.e., arr[i] may be present at arr[i+1] or arr[i-1]. Write an efficient function to search an element in this array. Basically the element arr[i] can only be swapped with either arr[i+1] or arr[i-1]. For example consider the array {2, 3, 10, 4, 40}, 4 is moved to next position and 10 is moved to previous position. [Hint: You can do this O(log n) time complexity]\n",
    "\n",
    "    `Examples: `\n",
    "        Input: arr[] =  {10, 3, 40, 20, 50, 80, 70}, key = 40\n",
    "        Output: 2 \n",
    "        Output is index of 40 in given array\n",
    "\n",
    "        Input: arr[] =  {10, 3, 40, 20, 50, 80, 70}, key = 90\n",
    "        Output: -1\n",
    "        -1 is returned to indicate element is not present"
   ]
  },
  {
   "cell_type": "code",
   "execution_count": null,
   "metadata": {
    "collapsed": true
   },
   "outputs": [],
   "source": []
  }
 ],
 "metadata": {
  "anaconda-cloud": {},
  "kernelspec": {
   "display_name": "Python [conda env:dsi]",
   "language": "python",
   "name": "conda-env-dsi-py"
  },
  "language_info": {
   "codemirror_mode": {
    "name": "ipython",
    "version": 2
   },
   "file_extension": ".py",
   "mimetype": "text/x-python",
   "name": "python",
   "nbconvert_exporter": "python",
   "pygments_lexer": "ipython2",
   "version": "2.7.12"
  }
 },
 "nbformat": 4,
 "nbformat_minor": 0
}
