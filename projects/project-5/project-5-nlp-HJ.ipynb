{
 "cells": [
  {
   "cell_type": "markdown",
   "metadata": {},
   "source": [
    "<img src=\"http://imgur.com/1ZcRyrc.png\" style=\"float: left; margin: 15px; height: 80px\">\n",
    "\n",
    "# Project 5\n",
    "\n",
    "\n",
    "## NLP and Machine Learning on [travel.statsexchange.com](http://travel.stackexchange.com/) data\n",
    "\n",
    "---\n",
    "\n",
    "In Project 7 you'll be doing NLP and machine learning on post data from stackexchange's travel subdomain. \n",
    "\n",
    "This project is setup like a mini Kaggle competition. You are given the training data and when projects are submitted your model will be tested on the held-out testing data. There will be prizes for the people who build models that perform best on the held out test set!\n",
    "\n",
    "---\n",
    "\n",
    "## Notes on the data\n",
    "\n",
    "The data is again compressed into the `.7z` file format to save space. There are 6 .csv files and one readme file that contains some information on the fields.\n",
    "\n",
    "    posts_train.csv\n",
    "    comments_train.csv\n",
    "    users.csv\n",
    "    badges.csv\n",
    "    votes_train.csv\n",
    "    tags.csv\n",
    "    readme.txt\n",
    "    \n",
    "The data is located in your datasets folder:\n",
    "\n",
    "    DSI-SF-2/datasets/stack_exchange_travel.7z\n",
    "    \n",
    "If you're interested in where this data came from and where to get more data from other stackexchange subdomains, see here:\n",
    "\n",
    "https://ia800500.us.archive.org/22/items/stackexchange/readme.txt\n",
    "\n",
    "\n",
    "### Recommended Utilities for .7z\n",
    "\n",
    "- For OSX [Keka](http://www.kekaosx.com/en/) or [The Unarchiver](http://wakaba.c3.cx/s/apps/unarchiver.html). \n",
    "- For Windows [7-zip](http://www.7-zip.org/) is the standard. \n",
    "- For Linux try the `p7zip` utility.  `sudo apt-get install p7zip`.\n",
    "\n"
   ]
  },
  {
   "cell_type": "code",
   "execution_count": 1,
   "metadata": {
    "collapsed": true
   },
   "outputs": [],
   "source": [
    "# Lets use notes from: \n",
    "#  4.2_Intro_Topic_Models_Lecture \n",
    "#  4.2_topic-modeling_lab "
   ]
  },
  {
   "cell_type": "code",
   "execution_count": 42,
   "metadata": {
    "collapsed": true
   },
   "outputs": [],
   "source": [
    "import sklearn\n",
    "# Import all of the scikit learn stuff\n",
    "from __future__ import print_function\n",
    "from sklearn.decomposition import TruncatedSVD\n",
    "from sklearn.feature_extraction.text import TfidfVectorizer\n",
    "from sklearn.feature_extraction.text import CountVectorizer\n",
    "from sklearn.preprocessing import Normalizer\n",
    "from sklearn import metrics\n",
    "from sklearn.cluster import KMeans, MiniBatchKMeans\n",
    "from sklearn.cross_validation import cross_val_score, cross_val_predict, train_test_split\n",
    "from sklearn.linear_model import LinearRegression, LogisticRegression\n",
    "\n",
    "#from gensim import corpora, models, matutils\n",
    "from gensim import corpora, models, matutils\n",
    "\n",
    "from collections import defaultdict\n",
    "\n",
    "import pandas as pd\n",
    "import numpy as np\n",
    "\n",
    "import matplotlib.pyplot as plt\n",
    "\n",
    "from bs4 import BeautifulSoup\n",
    "\n",
    "%matplotlib inline\n",
    "\n",
    "import warnings\n",
    "\n",
    "# Suppress warnings from pandas library\n",
    "warnings.filterwarnings(\"ignore\", category=DeprecationWarning, module=\"pandas\", lineno=570)\n"
   ]
  },
  {
   "cell_type": "code",
   "execution_count": 3,
   "metadata": {
    "collapsed": false
   },
   "outputs": [],
   "source": [
    "# import data\n",
    "posts_df = pd.read_csv('~/Desktop/DSI-SF-5/datasets/stack_exchange_travel/posts_train.csv')\n",
    "comments_df = pd.read_csv('~/Desktop/DSI-SF-5/datasets/stack_exchange_travel/comments_train.csv')\n",
    "tags_df = pd.read_csv('~/Desktop/DSI-SF-5/datasets/stack_exchange_travel/tags.csv')\n",
    "\n"
   ]
  },
  {
   "cell_type": "code",
   "execution_count": 4,
   "metadata": {
    "collapsed": false
   },
   "outputs": [
    {
     "data": {
      "text/html": [
       "<div>\n",
       "<table border=\"1\" class=\"dataframe\">\n",
       "  <thead>\n",
       "    <tr style=\"text-align: right;\">\n",
       "      <th></th>\n",
       "      <th>0</th>\n",
       "      <th>1</th>\n",
       "    </tr>\n",
       "  </thead>\n",
       "  <tbody>\n",
       "    <tr>\n",
       "      <th>AcceptedAnswerId</th>\n",
       "      <td>393</td>\n",
       "      <td>NaN</td>\n",
       "    </tr>\n",
       "    <tr>\n",
       "      <th>AnswerCount</th>\n",
       "      <td>4</td>\n",
       "      <td>1</td>\n",
       "    </tr>\n",
       "    <tr>\n",
       "      <th>Body</th>\n",
       "      <td>&lt;p&gt;My fiancée and I are looking for a good Car...</td>\n",
       "      <td>&lt;p&gt;Singapore Airlines has an all-business clas...</td>\n",
       "    </tr>\n",
       "    <tr>\n",
       "      <th>ClosedDate</th>\n",
       "      <td>2013-02-25T23:52:47.953</td>\n",
       "      <td>NaN</td>\n",
       "    </tr>\n",
       "    <tr>\n",
       "      <th>CommentCount</th>\n",
       "      <td>4</td>\n",
       "      <td>1</td>\n",
       "    </tr>\n",
       "    <tr>\n",
       "      <th>CommunityOwnedDate</th>\n",
       "      <td>NaN</td>\n",
       "      <td>NaN</td>\n",
       "    </tr>\n",
       "    <tr>\n",
       "      <th>CreationDate</th>\n",
       "      <td>2011-06-21T20:19:34.730</td>\n",
       "      <td>2011-06-21T20:24:57.160</td>\n",
       "    </tr>\n",
       "    <tr>\n",
       "      <th>FavoriteCount</th>\n",
       "      <td>NaN</td>\n",
       "      <td>NaN</td>\n",
       "    </tr>\n",
       "    <tr>\n",
       "      <th>Id</th>\n",
       "      <td>1</td>\n",
       "      <td>4</td>\n",
       "    </tr>\n",
       "    <tr>\n",
       "      <th>LastActivityDate</th>\n",
       "      <td>2012-05-24T14:52:14.760</td>\n",
       "      <td>2013-01-09T09:55:22.743</td>\n",
       "    </tr>\n",
       "    <tr>\n",
       "      <th>LastEditDate</th>\n",
       "      <td>2011-12-28T21:36:43.910</td>\n",
       "      <td>2013-01-09T09:55:22.743</td>\n",
       "    </tr>\n",
       "    <tr>\n",
       "      <th>LastEditorDisplayName</th>\n",
       "      <td>NaN</td>\n",
       "      <td>NaN</td>\n",
       "    </tr>\n",
       "    <tr>\n",
       "      <th>LastEditorUserId</th>\n",
       "      <td>101</td>\n",
       "      <td>693</td>\n",
       "    </tr>\n",
       "    <tr>\n",
       "      <th>OwnerDisplayName</th>\n",
       "      <td>NaN</td>\n",
       "      <td>NaN</td>\n",
       "    </tr>\n",
       "    <tr>\n",
       "      <th>OwnerUserId</th>\n",
       "      <td>9</td>\n",
       "      <td>24</td>\n",
       "    </tr>\n",
       "    <tr>\n",
       "      <th>ParentId</th>\n",
       "      <td>NaN</td>\n",
       "      <td>NaN</td>\n",
       "    </tr>\n",
       "    <tr>\n",
       "      <th>PostTypeId</th>\n",
       "      <td>1</td>\n",
       "      <td>1</td>\n",
       "    </tr>\n",
       "    <tr>\n",
       "      <th>Score</th>\n",
       "      <td>8</td>\n",
       "      <td>8</td>\n",
       "    </tr>\n",
       "    <tr>\n",
       "      <th>Tags</th>\n",
       "      <td>&lt;caribbean&gt;&lt;cruising&gt;&lt;vacations&gt;</td>\n",
       "      <td>&lt;loyalty-programs&gt;&lt;routes&gt;&lt;ewr&gt;&lt;singapore-airl...</td>\n",
       "    </tr>\n",
       "    <tr>\n",
       "      <th>Title</th>\n",
       "      <td>What are some Caribbean cruises for October?</td>\n",
       "      <td>Does Singapore Airlines offer any reward seats...</td>\n",
       "    </tr>\n",
       "    <tr>\n",
       "      <th>ViewCount</th>\n",
       "      <td>361</td>\n",
       "      <td>219</td>\n",
       "    </tr>\n",
       "  </tbody>\n",
       "</table>\n",
       "</div>"
      ],
      "text/plain": [
       "                                                                       0  \\\n",
       "AcceptedAnswerId                                                     393   \n",
       "AnswerCount                                                            4   \n",
       "Body                   <p>My fiancée and I are looking for a good Car...   \n",
       "ClosedDate                                       2013-02-25T23:52:47.953   \n",
       "CommentCount                                                           4   \n",
       "CommunityOwnedDate                                                   NaN   \n",
       "CreationDate                                     2011-06-21T20:19:34.730   \n",
       "FavoriteCount                                                        NaN   \n",
       "Id                                                                     1   \n",
       "LastActivityDate                                 2012-05-24T14:52:14.760   \n",
       "LastEditDate                                     2011-12-28T21:36:43.910   \n",
       "LastEditorDisplayName                                                NaN   \n",
       "LastEditorUserId                                                     101   \n",
       "OwnerDisplayName                                                     NaN   \n",
       "OwnerUserId                                                            9   \n",
       "ParentId                                                             NaN   \n",
       "PostTypeId                                                             1   \n",
       "Score                                                                  8   \n",
       "Tags                                    <caribbean><cruising><vacations>   \n",
       "Title                       What are some Caribbean cruises for October?   \n",
       "ViewCount                                                            361   \n",
       "\n",
       "                                                                       1  \n",
       "AcceptedAnswerId                                                     NaN  \n",
       "AnswerCount                                                            1  \n",
       "Body                   <p>Singapore Airlines has an all-business clas...  \n",
       "ClosedDate                                                           NaN  \n",
       "CommentCount                                                           1  \n",
       "CommunityOwnedDate                                                   NaN  \n",
       "CreationDate                                     2011-06-21T20:24:57.160  \n",
       "FavoriteCount                                                        NaN  \n",
       "Id                                                                     4  \n",
       "LastActivityDate                                 2013-01-09T09:55:22.743  \n",
       "LastEditDate                                     2013-01-09T09:55:22.743  \n",
       "LastEditorDisplayName                                                NaN  \n",
       "LastEditorUserId                                                     693  \n",
       "OwnerDisplayName                                                     NaN  \n",
       "OwnerUserId                                                           24  \n",
       "ParentId                                                             NaN  \n",
       "PostTypeId                                                             1  \n",
       "Score                                                                  8  \n",
       "Tags                   <loyalty-programs><routes><ewr><singapore-airl...  \n",
       "Title                  Does Singapore Airlines offer any reward seats...  \n",
       "ViewCount                                                            219  "
      ]
     },
     "execution_count": 4,
     "metadata": {},
     "output_type": "execute_result"
    }
   ],
   "source": [
    "# Look at datasets\n",
    "\n",
    "posts_df.head(2).T"
   ]
  },
  {
   "cell_type": "code",
   "execution_count": 5,
   "metadata": {
    "collapsed": false
   },
   "outputs": [
    {
     "name": "stdout",
     "output_type": "stream",
     "text": [
      "<class 'pandas.core.frame.DataFrame'>\n",
      "RangeIndex: 41289 entries, 0 to 41288\n",
      "Data columns (total 21 columns):\n",
      "AcceptedAnswerId         6516 non-null float64\n",
      "AnswerCount              13988 non-null float64\n",
      "Body                     40476 non-null object\n",
      "ClosedDate               2627 non-null object\n",
      "CommentCount             41289 non-null int64\n",
      "CommunityOwnedDate       181 non-null object\n",
      "CreationDate             41289 non-null object\n",
      "FavoriteCount            3522 non-null float64\n",
      "Id                       41289 non-null int64\n",
      "LastActivityDate         41289 non-null object\n",
      "LastEditDate             23363 non-null object\n",
      "LastEditorDisplayName    844 non-null object\n",
      "LastEditorUserId         22883 non-null float64\n",
      "OwnerDisplayName         1173 non-null object\n",
      "OwnerUserId              40552 non-null float64\n",
      "ParentId                 23967 non-null float64\n",
      "PostTypeId               41289 non-null int64\n",
      "Score                    41289 non-null int64\n",
      "Tags                     13988 non-null object\n",
      "Title                    13988 non-null object\n",
      "ViewCount                13988 non-null float64\n",
      "dtypes: float64(7), int64(4), object(10)\n",
      "memory usage: 6.6+ MB\n"
     ]
    },
    {
     "data": {
      "text/plain": [
       "(41289, 21)"
      ]
     },
     "execution_count": 5,
     "metadata": {},
     "output_type": "execute_result"
    }
   ],
   "source": [
    "posts_df.info()\n",
    "posts_df.shape"
   ]
  },
  {
   "cell_type": "code",
   "execution_count": 6,
   "metadata": {
    "collapsed": false
   },
   "outputs": [
    {
     "data": {
      "text/plain": [
       "AcceptedAnswerId         34773\n",
       "AnswerCount              27301\n",
       "Body                       813\n",
       "ClosedDate               38662\n",
       "CommentCount                 0\n",
       "CommunityOwnedDate       41108\n",
       "CreationDate                 0\n",
       "FavoriteCount            37767\n",
       "Id                           0\n",
       "LastActivityDate             0\n",
       "LastEditDate             17926\n",
       "LastEditorDisplayName    40445\n",
       "LastEditorUserId         18406\n",
       "OwnerDisplayName         40116\n",
       "OwnerUserId                737\n",
       "ParentId                 17322\n",
       "PostTypeId                   0\n",
       "Score                        0\n",
       "Tags                     27301\n",
       "Title                    27301\n",
       "ViewCount                27301\n",
       "dtype: int64"
      ]
     },
     "execution_count": 6,
     "metadata": {},
     "output_type": "execute_result"
    }
   ],
   "source": [
    "# see how much nulls\n",
    "posts_df.isnull().sum()"
   ]
  },
  {
   "cell_type": "code",
   "execution_count": 7,
   "metadata": {
    "collapsed": false
   },
   "outputs": [
    {
     "data": {
      "text/plain": [
       "\"<p>My fianc\\xc3\\xa9e and I are looking for a good Caribbean cruise in October and were wondering which islands are best to see and which Cruise line to take?</p>\\n\\n<p>It seems like a lot of the cruises don't run in this month due to Hurricane season so I'm looking for other good options.</p>\\n\\n<p><strong>EDIT</strong> We'll be travelling in 2012.</p>\\n\""
      ]
     },
     "execution_count": 7,
     "metadata": {},
     "output_type": "execute_result"
    }
   ],
   "source": [
    "# look at text of post in \"Body\" column\n",
    "posts_df[\"Body\"][0]"
   ]
  },
  {
   "cell_type": "code",
   "execution_count": 8,
   "metadata": {
    "collapsed": false
   },
   "outputs": [
    {
     "data": {
      "text/plain": [
       "u\"My fianc\\xe9e and I are looking for a good Caribbean cruise in October and were wondering which islands are best to see and which Cruise line to take?\\nIt seems like a lot of the cruises don't run in this month due to Hurricane season so I'm looking for other good options.\\nEDIT We'll be travelling in 2012.\\n\""
      ]
     },
     "execution_count": 8,
     "metadata": {},
     "output_type": "execute_result"
    }
   ],
   "source": [
    "from bs4 import BeautifulSoup\n",
    "\n",
    "# 1. Remove HTML\n",
    "#review_text_no_html = BeautifulSoup(review, \"lxml\").get_text()\n",
    "review = posts_df[\"Body\"][0]\n",
    "\n",
    "BeautifulSoup(review, \"lxml\").get_text()"
   ]
  },
  {
   "cell_type": "code",
   "execution_count": 9,
   "metadata": {
    "collapsed": false
   },
   "outputs": [],
   "source": [
    "posts_df[\"Body\"] = posts_df['Body'].map(lambda x: BeautifulSoup(str(x),\"lxml\").get_text())  # Remove HTML from \"Body\" column"
   ]
  },
  {
   "cell_type": "code",
   "execution_count": 10,
   "metadata": {
    "collapsed": false
   },
   "outputs": [
    {
     "data": {
      "text/plain": [
       "u\"My fianc\\xe9e and I are looking for a good Caribbean cruise in October and were wondering which islands are best to see and which Cruise line to take?\\nIt seems like a lot of the cruises don't run in this month due to Hurricane season so I'm looking for other good options.\\nEDIT We'll be travelling in 2012.\\n\""
      ]
     },
     "execution_count": 10,
     "metadata": {},
     "output_type": "execute_result"
    }
   ],
   "source": [
    "posts_df[\"Body\"][0]"
   ]
  },
  {
   "cell_type": "code",
   "execution_count": 11,
   "metadata": {
    "collapsed": true
   },
   "outputs": [],
   "source": [
    "posts_df[\"Body\"] = posts_df[\"Body\"].map(lambda x: x.replace('\\n',' ')) # remove \"\\n\" from \"Body\" column"
   ]
  },
  {
   "cell_type": "code",
   "execution_count": 12,
   "metadata": {
    "collapsed": false
   },
   "outputs": [
    {
     "data": {
      "text/plain": [
       "u\"My fianc\\xe9e and I are looking for a good Caribbean cruise in October and were wondering which islands are best to see and which Cruise line to take? It seems like a lot of the cruises don't run in this month due to Hurricane season so I'm looking for other good options. EDIT We'll be travelling in 2012. \""
      ]
     },
     "execution_count": 12,
     "metadata": {},
     "output_type": "execute_result"
    }
   ],
   "source": [
    "posts_df[\"Body\"][0]"
   ]
  },
  {
   "cell_type": "markdown",
   "metadata": {},
   "source": [
    "<img src=\"http://imgur.com/l5NasQj.png\" style=\"float: left; margin: 25px 15px 0px 0px; height: 25px\">\n",
    "\n",
    "### 1. Use LDA to find what topics are discussed on travel.stackexchange.com.\n",
    "\n",
    "---\n",
    "\n",
    "Text can be found in the posts and the comments datasets. The `ParentId` column in the posts dataset indicates what the \"question\" post was for a given post. Comment text can be merged onto the post they are part of with the `PostId` field.\n",
    "\n",
    "The text may have some HTML tags. BeautifulSoup has convenient ways to get rid of markup or extract text if you need to. You can also parse the strings yourself if you like.\n",
    "\n",
    "The tags dataset has the \"tags\" that the users have officially given the post.\n",
    "\n",
    "**1.1 Implement LDA against the text features of the dataset(s).**\n",
    "\n",
    "- This can be posts or a combination of posts and comments if you want more power.\n",
    "- Find optimal **K/num_topics**.\n",
    "\n",
    "**1.2 Compare your topics to the tags. Do the LDA topics make sense? How do they compare to the tags?**\n"
   ]
  },
  {
   "cell_type": "code",
   "execution_count": 13,
   "metadata": {
    "collapsed": true
   },
   "outputs": [],
   "source": [
    "##### 1.1 Implement LDA against the text features of the dataset(s). ############"
   ]
  },
  {
   "cell_type": "code",
   "execution_count": 14,
   "metadata": {
    "collapsed": false
   },
   "outputs": [],
   "source": [
    "text_df= posts_df[[\"Body\"]] # DataFrame with just Posts text\n",
    "\n",
    "# number of topics\n",
    "k     =  10\n",
    "\n",
    "# Vectorize\n",
    "vectorizer  =  CountVectorizer(stop_words='english')\n",
    "X           =  vectorizer.fit_transform(text_df[\"Body\"])\n",
    "\n",
    "# This is the fastest way to swap a dictionary key / value order.  This is the format gensim LDA expects it's vocabulary.\n",
    "vocab = {v: k for k, v in vectorizer.vocabulary_.iteritems()}\n",
    "\n"
   ]
  },
  {
   "cell_type": "code",
   "execution_count": 15,
   "metadata": {
    "collapsed": false
   },
   "outputs": [],
   "source": [
    "# Look at vocabulary\n",
    "#vocab"
   ]
  },
  {
   "cell_type": "code",
   "execution_count": 16,
   "metadata": {
    "collapsed": true
   },
   "outputs": [],
   "source": [
    "# LDA model\n",
    "lda = models.LdaModel(\n",
    "    matutils.Sparse2Corpus(X, documents_columns=False),\n",
    "    num_topics  =  k,\n",
    "    passes      =  10,\n",
    "    id2word     =  vocab\n",
    ")"
   ]
  },
  {
   "cell_type": "code",
   "execution_count": 17,
   "metadata": {
    "collapsed": false
   },
   "outputs": [
    {
     "data": {
      "text/plain": [
       "[(0,\n",
       "  u'0.038*\"airport\" + 0.019*\"bus\" + 0.018*\"hours\" + 0.014*\"time\" + 0.010*\"terminal\"'),\n",
       " (1,\n",
       "  u'0.014*\"luggage\" + 0.012*\"check\" + 0.010*\"security\" + 0.008*\"baggage\" + 0.008*\"bag\"'),\n",
       " (2,\n",
       "  u'0.027*\"card\" + 0.013*\"use\" + 0.012*\"bank\" + 0.011*\"credit\" + 0.011*\"pay\"'),\n",
       " (3,\n",
       "  u'0.046*\"visa\" + 0.018*\"passport\" + 0.014*\"uk\" + 0.012*\"need\" + 0.012*\"country\"'),\n",
       " (4,\n",
       "  u'0.013*\"people\" + 0.006*\"don\" + 0.006*\"water\" + 0.005*\"like\" + 0.005*\"just\"'),\n",
       " (5,\n",
       "  u'0.024*\"train\" + 0.019*\"ticket\" + 0.016*\"http\" + 0.015*\"www\" + 0.012*\"tickets\"'),\n",
       " (6,\n",
       "  u'0.012*\"like\" + 0.010*\"time\" + 0.009*\"just\" + 0.008*\"want\" + 0.007*\"hotel\"'),\n",
       " (7,\n",
       "  u'0.013*\"countries\" + 0.012*\"english\" + 0.012*\"south\" + 0.010*\"russia\" + 0.009*\"border\"'),\n",
       " (8,\n",
       "  u'0.009*\"expired\" + 0.008*\"island\" + 0.007*\"sea\" + 0.007*\"islands\" + 0.006*\"north\"'),\n",
       " (9,\n",
       "  u'0.027*\"flight\" + 0.016*\"ticket\" + 0.013*\"airline\" + 0.013*\"flights\" + 0.012*\"airlines\"')]"
      ]
     },
     "execution_count": 17,
     "metadata": {},
     "output_type": "execute_result"
    }
   ],
   "source": [
    "# Look at the topics found\n",
    "lda.print_topics(num_topics=10, num_words=5)"
   ]
  },
  {
   "cell_type": "code",
   "execution_count": 18,
   "metadata": {
    "collapsed": true
   },
   "outputs": [],
   "source": [
    "##### 1.2 Compare your topics to the tags. START\n",
    "##### Do the LDA topics make sense? \n",
    "##### How do they compare to the tags?"
   ]
  },
  {
   "cell_type": "code",
   "execution_count": 19,
   "metadata": {
    "collapsed": false
   },
   "outputs": [
    {
     "data": {
      "text/plain": [
       "<visas><schengen>                                                                    120\n",
       "<visas>                                                                               64\n",
       "<visas><uk>                                                                           64\n",
       "<air-travel>                                                                          61\n",
       "<schengen>                                                                            45\n",
       "<visas><usa>                                                                          29\n",
       "<passports>                                                                           20\n",
       "<transit>                                                                             20\n",
       "<air-travel><luggage>                                                                 17\n",
       "<customs-and-immigration>                                                             17\n",
       "<luggage>                                                                             17\n",
       "<air-travel><tickets>                                                                 16\n",
       "<visas><usa><b1-b2-visas>                                                             15\n",
       "<usa>                                                                                 14\n",
       "<visas><transit>                                                                      14\n",
       "<visas><china>                                                                        14\n",
       "<air-travel><health>                                                                  14\n",
       "<usa><b1-b2-visas>                                                                    13\n",
       "<usa><customs-and-immigration>                                                        13\n",
       "<visas><uk><visa-refusal>                                                             12\n",
       "<transit-visas>                                                                       11\n",
       "<customs-and-immigration><india>                                                      11\n",
       "<usa><esta>                                                                           11\n",
       "<visas><uk><standard-visitor-visa>                                                    11\n",
       "<air-travel><hand-luggage>                                                            10\n",
       "<visas><schengen><indian-citizens>                                                    10\n",
       "<air-travel><flight-search-engines>                                                   10\n",
       "<visas><schengen><visa-refusal>                                                        9\n",
       "<visas><usa><esta>                                                                     9\n",
       "<visas><schengen><multiple-entry>                                                      9\n",
       "                                                                                    ... \n",
       "<passports><dual-nationality><australian-citizens><south-african-citizens>             1\n",
       "<lhr><damaged-luggage><air-china>                                                      1\n",
       "<air-travel><tips-and-tricks><etiquette><cabin-crew>                                   1\n",
       "<public-transport><airport-transfer><montenegro><tgd><podgorica>                       1\n",
       "<uk><internet>                                                                         1\n",
       "<transit><customs-and-immigration><sydney><qantas><syd>                                1\n",
       "<usa><us-visa-waiver-program><b1-b2-visas><visas-on-arrival><australian-citizens>      1\n",
       "<public-transport><airport-transfer><istanbul><ist>                                    1\n",
       "<trains><tickets><japan>                                                               1\n",
       "<usa><customs-and-immigration><canada><work><canadian-citizens>                        1\n",
       "<planning><security>                                                                   1\n",
       "<airbnb><couchsurfing>                                                                 1\n",
       "<schengen><passports><dual-nationality>                                                1\n",
       "<planning><sightseeing><uk><scotland>                                                  1\n",
       "<transit><canada><layovers>                                                            1\n",
       "<uk><adventure><activities><outdoor-activities><short-notice>                          1\n",
       "<transit><airport-transfer><atlanta>                                                   1\n",
       "<visas><transit><multiple-entry>                                                       1\n",
       "<visas><usa><nigerian-citizens><visa-cancellation>                                     1\n",
       "<public-transport><airport-transfer><panama><pty><panama-city>                         1\n",
       "<schengen><overstaying><south-african-citizens>                                        1\n",
       "<customs-and-immigration><luggage><security><fra><atl>                                 1\n",
       "<uk><legal><hotels><compensation>                                                      1\n",
       "<visas><passports><b1-b2-visas>                                                        1\n",
       "<regulations><myanmar>                                                                 1\n",
       "<air-travel><international-travel><nexus>                                              1\n",
       "<food-and-drink><new-york-city>                                                        1\n",
       "<france><burgundy><wine-trails><alsace><champagne>                                     1\n",
       "<budget><automobiles><denver>                                                          1\n",
       "<schengen><italy><eu><family>                                                          1\n",
       "Name: Tags, dtype: int64"
      ]
     },
     "execution_count": 19,
     "metadata": {},
     "output_type": "execute_result"
    }
   ],
   "source": [
    "# Look at \"Tags\" column:\n",
    "\n",
    "posts_df[\"Tags\"].value_counts()"
   ]
  },
  {
   "cell_type": "code",
   "execution_count": 20,
   "metadata": {
    "collapsed": false
   },
   "outputs": [
    {
     "ename": "AttributeError",
     "evalue": "'float' object has no attribute 'split'",
     "output_type": "error",
     "traceback": [
      "\u001b[0;31m---------------------------------------------------------------------------\u001b[0m",
      "\u001b[0;31mAttributeError\u001b[0m                            Traceback (most recent call last)",
      "\u001b[0;32m<ipython-input-20-350af02a14eb>\u001b[0m in \u001b[0;36m<module>\u001b[0;34m()\u001b[0m\n\u001b[1;32m      1\u001b[0m \u001b[0mtags_list\u001b[0m \u001b[0;34m=\u001b[0m \u001b[0;34m[\u001b[0m\u001b[0;34m]\u001b[0m\u001b[0;34m\u001b[0m\u001b[0m\n\u001b[1;32m      2\u001b[0m \u001b[0;32mfor\u001b[0m \u001b[0mtag\u001b[0m \u001b[0;32min\u001b[0m \u001b[0mposts_df\u001b[0m\u001b[0;34m[\u001b[0m\u001b[0;34m\"Tags\"\u001b[0m\u001b[0;34m]\u001b[0m\u001b[0;34m:\u001b[0m\u001b[0;34m\u001b[0m\u001b[0m\n\u001b[0;32m----> 3\u001b[0;31m     \u001b[0;32mfor\u001b[0m \u001b[0mt\u001b[0m \u001b[0;32min\u001b[0m \u001b[0mtag\u001b[0m\u001b[0;34m.\u001b[0m\u001b[0msplit\u001b[0m\u001b[0;34m(\u001b[0m\u001b[0;34m)\u001b[0m\u001b[0;34m:\u001b[0m\u001b[0;34m\u001b[0m\u001b[0m\n\u001b[0m\u001b[1;32m      4\u001b[0m         \u001b[0mtags_list\u001b[0m\u001b[0;34m.\u001b[0m\u001b[0mappend\u001b[0m\u001b[0;34m(\u001b[0m\u001b[0mt\u001b[0m\u001b[0;34m)\u001b[0m\u001b[0;34m\u001b[0m\u001b[0m\n",
      "\u001b[0;31mAttributeError\u001b[0m: 'float' object has no attribute 'split'"
     ]
    }
   ],
   "source": [
    "tags_list = []\n",
    "for tag in posts_df[\"Tags\"]:\n",
    "    for t in tag.split():\n",
    "        tags_list.append(t)"
   ]
  },
  {
   "cell_type": "code",
   "execution_count": 21,
   "metadata": {
    "collapsed": true
   },
   "outputs": [],
   "source": [
    "##### 1.2 Compare your topics to the tags. END\n",
    "#####\n",
    "##### Do the LDA topics make sense? Yes, the LDA Topics are related to travel\n",
    "##### LDA Topics discoverd\n",
    "# (0, u'0.042*\"flight\" + 0.028*\"airport\" + 0.017*\"check\" + 0.015*\"flights\" + 0.015*\"luggage\"'),\n",
    "# ==> Air travel\n",
    "# (1, u'0.026*\"days\" + 0.018*\"stay\" + 0.017*\"time\" + 0.014*\"day\" + 0.013*\"trip\"'),\n",
    "# ==> \n",
    "# (2, u'0.008*\"water\" + 0.008*\"food\" + 0.006*\"carry\" + 0.006*\"like\" + 0.006*\"just\"'),\n",
    "# (3, u'0.024*\"car\" + 0.010*\"road\" + 0.009*\"drive\" + 0.008*\"driving\" + 0.007*\"park\"'),\n",
    "# (4, u'0.057*\"visa\" + 0.023*\"passport\" + 0.016*\"uk\" + 0.014*\"schengen\" + 0.014*\"country\"'),\n",
    "# (5, u'0.030*\"train\" + 0.022*\"bus\" + 0.016*\"station\" + 0.014*\"ticket\" + 0.012*\"trains\"'),\n",
    "# (6, u'0.013*\"card\" + 0.011*\"ticket\" + 0.009*\"pay\" + 0.007*\"use\" + 0.007*\"booking\"'),\n",
    "# (7, u'0.013*\"people\" + 0.009*\"like\" + 0.009*\"just\" + 0.007*\"don\" + 0.007*\"know\"'),\n",
    "# (8, u'0.013*\"esta\" + 0.012*\"south\" + 0.009*\"city\" + 0.009*\"mexico\" + 0.008*\"new\"'),\n",
    "# (9, u'0.032*\"http\" + 0.031*\"www\" + 0.024*\"com\" + 0.013*\"00\" + 0.012*\"https\"')]\n",
    "\n",
    "##### How do they compare to the tags? The LDA Topics have some of the same/simlar as Tags\n",
    "### Top Tags in frequency\n",
    "# <visas><schengen>                                                                    120\n",
    "# <visas>                                                                               64\n",
    "# <visas><uk>                                                                           64\n",
    "# <air-travel>                                                                          61\n",
    "# <schengen>                                                                            45\n",
    "# <visas><usa>                                                                          29\n",
    "# <passports>                                                                           20\n",
    "# <transit>                                                                             20\n",
    "# <air-travel><luggage>                                                                 17\n",
    "# <customs-and-immigration>                                                             17"
   ]
  },
  {
   "cell_type": "markdown",
   "metadata": {},
   "source": [
    "<img src=\"http://imgur.com/l5NasQj.png\" style=\"float: left; margin: 25px 15px 0px 0px; height: 25px\">\n",
    "\n",
    "### 2. What makes an answer likely to be \"accepted\"?\n",
    "\n",
    "---\n",
    "\n",
    "**2.1 Build a model to predict whether a post will be marked as the answer.**\n",
    "\n",
    "- This is a classification problem.\n",
    "- You're free to use any of the machine learning algorithms or techniques we have learned in class to build the best model you can.\n",
    "- NLP will be very useful here for pulling out useful and relevant features from the data. \n",
    "- Though not required, using bagging and boosting models like Random Forests and Gradient Boosted Trees will _probably_ get you the highest performance on the test data (but who knows!).\n",
    "\n",
    "\n",
    "**2.2 Evaluate the performance of your classifier with a confusion matrix and accuracy. Explain how your model is performing.**\n",
    "\n",
    "**2.3 Plot either a ROC curve or precision-recall curve (or both!) and explain what they tell you about your model.**\n",
    "\n",
    "NOTE: You should only be predicting this for `PostTypeID=2` posts, which are the \"answer\" posts. This doesn't mean, however, that you can't or shouldn't use the parent questions as predictors!\n"
   ]
  },
  {
   "cell_type": "code",
   "execution_count": 23,
   "metadata": {
    "collapsed": false
   },
   "outputs": [],
   "source": [
    "# Use CountVectorizer \n",
    "cv = CountVectorizer(ngram_range=(1,2), max_features=2500, binary=True, stop_words='english')\n",
    "body = cv.fit_transform(posts_df['Body'])\n",
    "\n",
    "body_text = pd.DataFrame(body.todense(), columns=cv.get_feature_names())\n"
   ]
  },
  {
   "cell_type": "code",
   "execution_count": 24,
   "metadata": {
    "collapsed": false
   },
   "outputs": [
    {
     "data": {
      "text/plain": [
       "2    23967\n",
       "1    13988\n",
       "5     1656\n",
       "4     1656\n",
       "6       18\n",
       "7        4\n",
       "Name: PostTypeId, dtype: int64"
      ]
     },
     "execution_count": 24,
     "metadata": {},
     "output_type": "execute_result"
    }
   ],
   "source": [
    "posts_df['PostTypeId'].value_counts()"
   ]
  },
  {
   "cell_type": "code",
   "execution_count": 25,
   "metadata": {
    "collapsed": true
   },
   "outputs": [],
   "source": [
    "posts_df['PostTypeId'] = posts_df['PostTypeId'].map(lambda x: 1 if x == 2 else 0) # 2 Answer vs Non Answer Post"
   ]
  },
  {
   "cell_type": "code",
   "execution_count": 26,
   "metadata": {
    "collapsed": false
   },
   "outputs": [
    {
     "data": {
      "text/html": [
       "<div>\n",
       "<table border=\"1\" class=\"dataframe\">\n",
       "  <thead>\n",
       "    <tr style=\"text-align: right;\">\n",
       "      <th></th>\n",
       "      <th>00</th>\n",
       "      <th>000</th>\n",
       "      <th>10</th>\n",
       "      <th>10 days</th>\n",
       "      <th>10 minutes</th>\n",
       "      <th>10 years</th>\n",
       "      <th>100</th>\n",
       "      <th>1000</th>\n",
       "      <th>11</th>\n",
       "      <th>12</th>\n",
       "      <th>...</th>\n",
       "      <th>years old</th>\n",
       "      <th>yellow</th>\n",
       "      <th>yes</th>\n",
       "      <th>york</th>\n",
       "      <th>young</th>\n",
       "      <th>zealand</th>\n",
       "      <th>zero</th>\n",
       "      <th>zone</th>\n",
       "      <th>zones</th>\n",
       "      <th>zurich</th>\n",
       "    </tr>\n",
       "  </thead>\n",
       "  <tbody>\n",
       "    <tr>\n",
       "      <th>0</th>\n",
       "      <td>0</td>\n",
       "      <td>0</td>\n",
       "      <td>0</td>\n",
       "      <td>0</td>\n",
       "      <td>0</td>\n",
       "      <td>0</td>\n",
       "      <td>0</td>\n",
       "      <td>0</td>\n",
       "      <td>0</td>\n",
       "      <td>0</td>\n",
       "      <td>...</td>\n",
       "      <td>0</td>\n",
       "      <td>0</td>\n",
       "      <td>0</td>\n",
       "      <td>0</td>\n",
       "      <td>0</td>\n",
       "      <td>0</td>\n",
       "      <td>0</td>\n",
       "      <td>0</td>\n",
       "      <td>0</td>\n",
       "      <td>0</td>\n",
       "    </tr>\n",
       "    <tr>\n",
       "      <th>1</th>\n",
       "      <td>0</td>\n",
       "      <td>0</td>\n",
       "      <td>0</td>\n",
       "      <td>0</td>\n",
       "      <td>0</td>\n",
       "      <td>0</td>\n",
       "      <td>0</td>\n",
       "      <td>0</td>\n",
       "      <td>0</td>\n",
       "      <td>0</td>\n",
       "      <td>...</td>\n",
       "      <td>0</td>\n",
       "      <td>0</td>\n",
       "      <td>0</td>\n",
       "      <td>0</td>\n",
       "      <td>0</td>\n",
       "      <td>0</td>\n",
       "      <td>0</td>\n",
       "      <td>0</td>\n",
       "      <td>0</td>\n",
       "      <td>0</td>\n",
       "    </tr>\n",
       "    <tr>\n",
       "      <th>2</th>\n",
       "      <td>0</td>\n",
       "      <td>0</td>\n",
       "      <td>0</td>\n",
       "      <td>0</td>\n",
       "      <td>0</td>\n",
       "      <td>0</td>\n",
       "      <td>0</td>\n",
       "      <td>0</td>\n",
       "      <td>0</td>\n",
       "      <td>0</td>\n",
       "      <td>...</td>\n",
       "      <td>0</td>\n",
       "      <td>0</td>\n",
       "      <td>0</td>\n",
       "      <td>0</td>\n",
       "      <td>0</td>\n",
       "      <td>0</td>\n",
       "      <td>0</td>\n",
       "      <td>0</td>\n",
       "      <td>0</td>\n",
       "      <td>0</td>\n",
       "    </tr>\n",
       "    <tr>\n",
       "      <th>3</th>\n",
       "      <td>0</td>\n",
       "      <td>0</td>\n",
       "      <td>0</td>\n",
       "      <td>0</td>\n",
       "      <td>0</td>\n",
       "      <td>0</td>\n",
       "      <td>0</td>\n",
       "      <td>0</td>\n",
       "      <td>0</td>\n",
       "      <td>0</td>\n",
       "      <td>...</td>\n",
       "      <td>0</td>\n",
       "      <td>0</td>\n",
       "      <td>0</td>\n",
       "      <td>0</td>\n",
       "      <td>0</td>\n",
       "      <td>0</td>\n",
       "      <td>0</td>\n",
       "      <td>0</td>\n",
       "      <td>0</td>\n",
       "      <td>0</td>\n",
       "    </tr>\n",
       "    <tr>\n",
       "      <th>4</th>\n",
       "      <td>0</td>\n",
       "      <td>0</td>\n",
       "      <td>0</td>\n",
       "      <td>0</td>\n",
       "      <td>0</td>\n",
       "      <td>0</td>\n",
       "      <td>0</td>\n",
       "      <td>0</td>\n",
       "      <td>0</td>\n",
       "      <td>0</td>\n",
       "      <td>...</td>\n",
       "      <td>0</td>\n",
       "      <td>0</td>\n",
       "      <td>0</td>\n",
       "      <td>0</td>\n",
       "      <td>0</td>\n",
       "      <td>0</td>\n",
       "      <td>0</td>\n",
       "      <td>0</td>\n",
       "      <td>0</td>\n",
       "      <td>0</td>\n",
       "    </tr>\n",
       "  </tbody>\n",
       "</table>\n",
       "<p>5 rows × 2500 columns</p>\n",
       "</div>"
      ],
      "text/plain": [
       "   00  000  10  10 days  10 minutes  10 years  100  1000  11  12   ...    \\\n",
       "0   0    0   0        0           0         0    0     0   0   0   ...     \n",
       "1   0    0   0        0           0         0    0     0   0   0   ...     \n",
       "2   0    0   0        0           0         0    0     0   0   0   ...     \n",
       "3   0    0   0        0           0         0    0     0   0   0   ...     \n",
       "4   0    0   0        0           0         0    0     0   0   0   ...     \n",
       "\n",
       "   years old  yellow  yes  york  young  zealand  zero  zone  zones  zurich  \n",
       "0          0       0    0     0      0        0     0     0      0       0  \n",
       "1          0       0    0     0      0        0     0     0      0       0  \n",
       "2          0       0    0     0      0        0     0     0      0       0  \n",
       "3          0       0    0     0      0        0     0     0      0       0  \n",
       "4          0       0    0     0      0        0     0     0      0       0  \n",
       "\n",
       "[5 rows x 2500 columns]"
      ]
     },
     "execution_count": 26,
     "metadata": {},
     "output_type": "execute_result"
    }
   ],
   "source": [
    "body_text.head()"
   ]
  },
  {
   "cell_type": "code",
   "execution_count": 27,
   "metadata": {
    "collapsed": true
   },
   "outputs": [],
   "source": [
    "X = body_text.values          # predictors, X\n",
    "y = posts_df[\"PostTypeId\"]    # target, y"
   ]
  },
  {
   "cell_type": "code",
   "execution_count": 43,
   "metadata": {
    "collapsed": false
   },
   "outputs": [
    {
     "name": "stdout",
     "output_type": "stream",
     "text": [
      "R2\n",
      "0.830547966229\n"
     ]
    }
   ],
   "source": [
    "# test train split\n",
    "Xtrain, Xtest, ytrain, ytest = train_test_split(X, y, test_size=0.3)\n",
    "lr = LogisticRegression()\n",
    "lr.fit(Xtrain, ytrain)\n",
    "\n",
    "lr_scores = cross_val_score(lr, Xtest, ytest, cv=5)\n",
    "\n",
    "print(\"R2\")\n",
    "print(np.mean(lr_scores))\n"
   ]
  },
  {
   "cell_type": "code",
   "execution_count": 44,
   "metadata": {
    "collapsed": true
   },
   "outputs": [],
   "source": [
    "# PLOT ROC curve\n",
    "\n",
    "from sklearn.metrics import roc_curve, roc_auc_score, auc\n",
    "\n",
    "def plot_roc(mod, X, y, varname):\n",
    "    mod.fit(X, y)\n",
    "    y_pp = mod.predict_proba(X)[:, 1]\n",
    "    fpr_, tpr_, _ = roc_curve(y, y_pp)\n",
    "    auc_ = auc(fpr_, tpr_)\n",
    "    acc_ = np.abs(0.5 - np.mean(y)) + 0.5\n",
    "    \n",
    "    fig, axr = plt.subplots(figsize=(8,7))\n",
    "\n",
    "    axr.plot(fpr_, tpr_, label='ROC (area = %0.2f)' % auc_,\n",
    "             color='darkred', linewidth=4,\n",
    "             alpha=0.7)\n",
    "    axr.plot([0, 1], [0, 1], color='grey', ls='dashed',\n",
    "             alpha=0.9, linewidth=4, label='baseline accuracy = %0.2f' % acc_)\n",
    "\n",
    "    axr.set_xlim([-0.05, 1.05])\n",
    "    axr.set_ylim([0.0, 1.05])\n",
    "    axr.set_xlabel('false positive rate', fontsize=16)\n",
    "    axr.set_ylabel('true positive rate', fontsize=16)\n",
    "    axr.set_title(varname + 'not ' + varname)\n",
    "\n",
    "    axr.legend(loc=\"lower right\", fontsize=12)\n",
    "\n",
    "    plt.show()"
   ]
  },
  {
   "cell_type": "code",
   "execution_count": 45,
   "metadata": {
    "collapsed": false
   },
   "outputs": [
    {
     "data": {
      "image/png": "[encoded data removed]",
      "text/plain": [
       "<matplotlib.figure.Figure at 0x12fce2f10>"
      ]
     },
     "metadata": {},
     "output_type": "display_data"
    }
   ],
   "source": [
    "# # PLOT ROC curve - Answer vs not Answer\n",
    "plot_roc(lr, X, y, 'Answer')"
   ]
  },
  {
   "cell_type": "markdown",
   "metadata": {
    "collapsed": true
   },
   "source": [
    "<img src=\"http://imgur.com/l5NasQj.png\" style=\"float: left; margin: 25px 15px 0px 0px; height: 25px\">\n",
    "\n",
    "### 3. What is the score of a post?\n",
    "\n",
    "---\n",
    "\n",
    "**3.1 Build a model that predicts the score of a post.**\n",
    "\n",
    "- This is a regression problem now. \n",
    "- You can and should be predicting score for both \"question\" and \"answer\" posts, so keep them both in your dataset.\n",
    "- Again, use any techniques that you think will get you the best model.\n",
    "\n",
    "**3.2 Evaluate the performance of your model with cross-validation and report the results.**\n",
    "\n",
    "**3.3 What is important for determining the score of a post, if anything?**\n"
   ]
  },
  {
   "cell_type": "code",
   "execution_count": null,
   "metadata": {
    "collapsed": true
   },
   "outputs": [],
   "source": []
  },
  {
   "cell_type": "code",
   "execution_count": null,
   "metadata": {
    "collapsed": true
   },
   "outputs": [],
   "source": []
  },
  {
   "cell_type": "code",
   "execution_count": null,
   "metadata": {
    "collapsed": true
   },
   "outputs": [],
   "source": []
  },
  {
   "cell_type": "markdown",
   "metadata": {},
   "source": [
    "<img src=\"http://imgur.com/l5NasQj.png\" style=\"float: left; margin: 25px 15px 0px 0px; height: 25px\">\n",
    "\n",
    "### 4. How many views does a post have?\n",
    "\n",
    "---\n",
    "\n",
    "**4.1 Build a model that predicts the number of views a post has.**\n",
    "\n",
    "- This is another regression problem. \n",
    "- Predict the views for all posts, not just the \"answer\" posts.\n",
    "\n",
    "**4.2 Evaluate the performance of your model with cross-validation and report the results.**\n",
    "\n",
    "**4.3 What is important for the number of views a post has, if anything?**"
   ]
  },
  {
   "cell_type": "code",
   "execution_count": null,
   "metadata": {
    "collapsed": true
   },
   "outputs": [],
   "source": []
  },
  {
   "cell_type": "markdown",
   "metadata": {},
   "source": [
    "<img src=\"http://imgur.com/l5NasQj.png\" style=\"float: left; margin: 25px 15px 0px 0px; height: 25px\">\n",
    "\n",
    "### 5. Build a pipeline or other code to automate evaluation of your models on the test data.\n",
    "\n",
    "---\n",
    "\n",
    "Now that you've constructed your three predictive models, build a pipeline or code that can easily load up the raw testing data and evaluate your models on it.\n",
    "\n",
    "The testing data that is held out is in the same raw format as the training data you have. _Any cleaning and preprocessing that you did on the training data will need to be done on the testing data as well!_\n",
    "\n",
    "This is a good opportunity to practice building pipelines, but you're not required to. Custom functions and classes are fine as long as they are able to process and test the new data.\n"
   ]
  },
  {
   "cell_type": "code",
   "execution_count": null,
   "metadata": {
    "collapsed": true
   },
   "outputs": [],
   "source": []
  },
  {
   "cell_type": "markdown",
   "metadata": {},
   "source": [
    "<img src=\"http://imgur.com/xDpSobf.png\" style=\"float: left; margin: 25px 15px 0px 0px; height: 25px\">\n",
    "\n",
    "## 6. Lets Model - Tournament for stock market predictions\n",
    "\n",
    ">Start this section of the project by downloading the train and test datasets from the following site: https://numer.ai/rules\n",
    "\n",
    "> - The data set is clean, your goal is to develop a classification model(s) \n",
    "> - Report all the results including log loss, and other coefficients you consider iteresting"
   ]
  },
  {
   "cell_type": "code",
   "execution_count": null,
   "metadata": {
    "collapsed": true
   },
   "outputs": [],
   "source": []
  }
 ],
 "metadata": {
  "anaconda-cloud": {},
  "kernelspec": {
   "display_name": "Python [conda env:dsi]",
   "language": "python",
   "name": "conda-env-dsi-py"
  },
  "language_info": {
   "codemirror_mode": {
    "name": "ipython",
    "version": 2
   },
   "file_extension": ".py",
   "mimetype": "text/x-python",
   "name": "python",
   "nbconvert_exporter": "python",
   "pygments_lexer": "ipython2",
   "version": "2.7.12"
  }
 },
 "nbformat": 4,
 "nbformat_minor": 0
}
