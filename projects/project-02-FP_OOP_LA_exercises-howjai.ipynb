{
 "cells": [
  {
   "cell_type": "markdown",
   "metadata": {},
   "source": [
    "## Functional & Object Oriented Programming "
   ]
  },
  {
   "cell_type": "markdown",
   "metadata": {},
   "source": [
    "### Functional Programming in Python\n",
    "In class, we briefly explored the Functional Programming in Python through lambda functions, map, filter, iterators, generators, and deocrators. This note will review those ideas. "
   ]
  },
  {
   "cell_type": "code",
   "execution_count": 1,
   "metadata": {
    "collapsed": true
   },
   "outputs": [],
   "source": [
    "import matplotlib.pyplot as plt\n",
    "import numpy as np\n",
    "import pandas as pd\n",
    "import seaborn as sns\n",
    "import scipy.stats as stats\n",
    "import scipy"
   ]
  },
  {
   "cell_type": "markdown",
   "metadata": {},
   "source": [
    "#### Lambda Functions \n"
   ]
  },
  {
   "cell_type": "markdown",
   "metadata": {
    "collapsed": false
   },
   "source": [
    "Exercise : For this exercise solve the following problem on Hackerrank and post your solution in the cell below\n",
    "\n",
    "[Validating Email addresses with a Filter](https://www.hackerrank.com/contests/pythonista-practice-session/challenges/validate-list-of-email-address-with-filter)\n"
   ]
  },
  {
   "cell_type": "code",
   "execution_count": 48,
   "metadata": {
    "collapsed": false
   },
   "outputs": [
    {
     "name": "stdout",
     "output_type": "stream",
     "text": [
      "3\n",
      "lara@hackerrank.com\n",
      "brian-23@hackerrank.com\n",
      "britts_54@hackerrank.com\n",
      "['brian-23@hackerrank.com', 'britts_54@hackerrank.com', 'lara@hackerrank.com']\n"
     ]
    }
   ],
   "source": [
    "#Write code here\n",
    "\n",
    "def is_valid_email(email):\n",
    "    try:\n",
    "        username, url = email.split(\"@\")       # get username\n",
    "        website,  extension = url.split(\".\")   # get website , extension\n",
    "    except ValueError:\n",
    "        return False\n",
    "    \n",
    "    if username.replace(\"-\", \"\").replace(\"_\", \"\").isalnum() is False: # check username is alphanumeric\n",
    "        return False                  \n",
    "    elif website.isalnum() is False:  # check if website is alphanumeric\n",
    "        return False                  \n",
    "    elif len(extension) > 3:          # check if extentsion is More than 3\n",
    "        return False\n",
    "    else:\n",
    "        return True                   # email is valid\n",
    "  \n",
    "# Sample input\n",
    "# 3\n",
    "# lara@hackerrank.com\n",
    "# brian-23@hackerrank.com\n",
    "# britts_54@hackerrank.com\n",
    "    \n",
    "n = int(input())                                    # get number of emails fronm stdin\n",
    "emails = [raw_input() for email in range(n)]        # get email urls from stdin\n",
    "\n",
    "valid_emails = sorted(list(filter(is_valid_email, emails))) # use filter to get list of valid emails\n",
    "\n",
    "print(valid_emails)"
   ]
  },
  {
   "cell_type": "markdown",
   "metadata": {},
   "source": [
    "#### Generators\n",
    "\n",
    "Exercise :\n",
    "Write a infinite generator that successively yields the triangle numbers 0, 1, 3, 6, 10, ...\n",
    "\n",
    "[Triangle Numbers](https://en.wikipedia.org/wiki/Triangular_number)"
   ]
  },
  {
   "cell_type": "code",
   "execution_count": 42,
   "metadata": {
    "collapsed": false
   },
   "outputs": [
    {
     "name": "stdout",
     "output_type": "stream",
     "text": [
      "<type 'generator'>\n",
      "0\n",
      "1\n",
      "3\n",
      "6\n"
     ]
    }
   ],
   "source": [
    "### Generators\n",
    "\"\"\"\n",
    "Exercise :\n",
    "Write a infinite generator that successively yields the triangle numbers 0, 1, 3, 6, 10, ...\n",
    "\n",
    "Triangle Numbers : https://en.wikipedia.org/wiki/Triangular_number\n",
    "\"\"\"\n",
    "## generator\n",
    "## infinite data stream of triangle numbers\n",
    "def generate_triangles():\n",
    "    i = 0\n",
    "    while True:\n",
    "        tri_num = i*(i+1)/2 # triangle number = i*(i+1)/2\n",
    "        i +=1\n",
    "        yield tri_num \n",
    "\n",
    "g = generate_triangles()\n",
    "print type(g) # => <class 'generator'>\n",
    "print next(g) # => 0\n",
    "print next(g) # => 1\n",
    "print next(g) # => 6\n",
    "print next(g) # => 10 \n"
   ]
  },
  {
   "cell_type": "code",
   "execution_count": 43,
   "metadata": {
    "collapsed": false
   },
   "outputs": [
    {
     "data": {
      "text/plain": [
       "10"
      ]
     },
     "execution_count": 43,
     "metadata": {},
     "output_type": "execute_result"
    }
   ],
   "source": [
    "next(g)\n"
   ]
  },
  {
   "cell_type": "code",
   "execution_count": 44,
   "metadata": {
    "collapsed": false
   },
   "outputs": [
    {
     "name": "stdout",
     "output_type": "stream",
     "text": [
      "0\n",
      "1\n",
      "3\n",
      "6\n",
      "10\n",
      "15\n",
      "21\n",
      "28\n",
      "36\n",
      "45\n",
      "None\n"
     ]
    }
   ],
   "source": [
    "\"\"\"\n",
    "Use your generator to write a function triangles_under(n) that prints out all triangle\n",
    "numbers strictly less than the parameter n.\n",
    "\n",
    "\"\"\"\n",
    "def triangles_under(n):\n",
    "    for f in generate_triangles(): # Loops over 0, 1, 3, 6, …\n",
    "        if f > n:\n",
    "            break\n",
    "        print(f)\n",
    "    \n",
    "print triangles_under(50)"
   ]
  },
  {
   "cell_type": "markdown",
   "metadata": {},
   "source": [
    "#### Decorators \n",
    "Exercise : Standardize Mobile Numbers using Decorators\n",
    "\n",
    "Make a list of the mobile numbers and pass it to a function that sorts the array \n",
    "in ascending order. Make a decorator that standardizes the mobile numbers and \n",
    "apply it to the function.\n",
    "\n",
    "Input : Take a list of mobile numbers. Sort them in ascending order then print them in \n",
    "the standard format shown below:\n",
    "    \n",
    "    +1 xxx xxx xxxx\n",
    "\n",
    "The given mobile numbers may have +1, 1 or 0 written before the actual digit number. \n",
    "Alternatively, there may not be any prefix at all. \n",
    "\n",
    "Sample Input : \n",
    "    06502505121\n",
    "    +19658764040\n",
    "\n",
    "Sample output :\n",
    "    +1 650 250 5121\n",
    "    +1 965 876 4040\n"
   ]
  },
  {
   "cell_type": "code",
   "execution_count": 45,
   "metadata": {
    "collapsed": false
   },
   "outputs": [
    {
     "name": "stdout",
     "output_type": "stream",
     "text": [
      "['+1 123 456 7890', '+1 650 250 5121', '+1 965 876 4040']\n"
     ]
    }
   ],
   "source": [
    "# decorator that standardizes the mobile numbers and apply it to the function.\n",
    "def wrapper(f):\n",
    "    def fun(l):\n",
    "        f('+1 {} {} {}'.format(number[-10:-7], number[-7:-4], number[-4:]) for number in l)\n",
    "    return fun\n",
    "\n",
    "@wrapper\n",
    "def sort_mobile(l):\n",
    "    print sorted(l)  # sorts mobile numbers list\n",
    "\n",
    "list1 = ['06502505121', '+19658764040', '1234567890']\n",
    "\n",
    "sort_mobile(list1)\n"
   ]
  },
  {
   "cell_type": "markdown",
   "metadata": {},
   "source": [
    "### Object Oriented Programming in Python"
   ]
  },
  {
   "cell_type": "markdown",
   "metadata": {},
   "source": [
    "#### Exercise 1: "
   ]
  },
  {
   "cell_type": "code",
   "execution_count": 49,
   "metadata": {
    "collapsed": false
   },
   "outputs": [
    {
     "ename": "NameError",
     "evalue": "name '____________' is not defined",
     "output_type": "error",
     "traceback": [
      "\u001b[0;31m---------------------------------------------------------------------------\u001b[0m",
      "\u001b[0;31mNameError\u001b[0m                                 Traceback (most recent call last)",
      "\u001b[0;32m<ipython-input-49-7693c6f5928e>\u001b[0m in \u001b[0;36m<module>\u001b[0;34m()\u001b[0m\n\u001b[1;32m     14\u001b[0m \u001b[0;34m\u001b[0m\u001b[0m\n\u001b[1;32m     15\u001b[0m \u001b[0ma\u001b[0m \u001b[0;34m=\u001b[0m \u001b[0mAccount\u001b[0m\u001b[0;34m(\u001b[0m\u001b[0;34m\"Billy\"\u001b[0m\u001b[0;34m)\u001b[0m \u001b[0;31m# Account 'a' created, no return error\u001b[0m\u001b[0;34m\u001b[0m\u001b[0m\n\u001b[0;32m---> 16\u001b[0;31m \u001b[0m____________\u001b[0m\u001b[0;34m\u001b[0m\u001b[0m\n\u001b[0m\u001b[1;32m     17\u001b[0m \u001b[0;34m\u001b[0m\u001b[0m\n\u001b[1;32m     18\u001b[0m \u001b[0ma\u001b[0m\u001b[0;34m.\u001b[0m\u001b[0maccount_holder\u001b[0m \u001b[0;31m# Error returned.  no method called 'account_holder'\u001b[0m\u001b[0;34m\u001b[0m\u001b[0m\n",
      "\u001b[0;31mNameError\u001b[0m: name '____________' is not defined"
     ]
    }
   ],
   "source": [
    "# Before compiling the following code snippets, write down what\n",
    "# each individual call will return in an inline comment. \n",
    "# If you think it returns an error, why would it be the case. \n",
    " \n",
    "\n",
    "class Account(object):\n",
    "    interest = 0.02\n",
    "    def __init__(self, account_holder):\n",
    "        self.balance = 0\n",
    "        self.holder = account_holder\n",
    "    def deposit(self, amount):\n",
    "        self.balance = self.balance + amount\n",
    "        print(\"Yes!\")\n",
    "\n",
    "a = Account(\"Billy\") # Account 'a' created, no return error\n",
    "____________\n",
    "\n",
    "a.account_holder # Error returned.  no method called 'account_holder'\n",
    "\n",
    "____________\n",
    "\n",
    "Account.holder #  Error returned. Class method cannot be called. also no such class method\n",
    "______\n",
    "\n",
    "Account.interest # Will return 0.02\n",
    "______\n",
    "\n",
    "a.interest # Will return 0.02\n",
    "______\n",
    "\n",
    "Account.interest = 0.03 \n",
    "a.interest  # will return 0.03 \n",
    "______\n",
    "\n",
    "a.deposit(1000) # will print 'Yes !'\n",
    "______\n",
    "\n",
    "a.balance  # Will return 1000\n",
    "______"
   ]
  },
  {
   "cell_type": "markdown",
   "metadata": {},
   "source": [
    "#### Exercise 2: Timed Key Value Store \n",
    "\n",
    "At a high-level, we'll be building a key-value store (think Dictionary or HashMap) that has a get method that takes an optional second parameter as a time object in Python to return the most recent value before that period in time. If no key-value pair was added to the map before that period in time, return None.\n",
    "\n",
    "For consistency’s sake, let’s call this class TimedKVStore and put it into a file called kv_store.py\n",
    "\n",
    "You’ll need some sort of time object to track when key-value pairs are getting added to this map. Consider using the time module from Python Docs\n",
    "\n",
    "To give you an idea of how this class works, this is what should happen after you implement TimedKVStore.\n",
    "\n"
   ]
  },
  {
   "cell_type": "code",
   "execution_count": null,
   "metadata": {
    "collapsed": true
   },
   "outputs": [],
   "source": [
    "d = TimedKVStore()\n",
    "\n",
    "t0 = time.time()\n",
    "d.put(\"1\", 1)\n",
    "\n",
    "t1 = time.time()\n",
    "d.put(\"1\", 1.1)\n",
    "\n",
    "d.get(\"1\")\n",
    "#Output : 1.1\n",
    "        \n",
    "d.get(\"1\", t1)\n",
    "#Output : 1\n",
    "    \n",
    "d.get(\"1\", t0)\n",
    "#Output : None"
   ]
  },
  {
   "cell_type": "code",
   "execution_count": null,
   "metadata": {
    "collapsed": true
   },
   "outputs": [],
   "source": [
    "#Write code here"
   ]
  },
  {
   "cell_type": "markdown",
   "metadata": {
    "collapsed": true
   },
   "source": [
    "#### Exercise 3 : \n",
    "For this problem you will be creating a class and apply OOP priciples to it. The problem is divided into two parts.\n",
    "\n",
    "#### 1. PART 1: \n",
    "* Define a Rocket() class.\n",
    "* Define the __init__() method. Let your __init__() method accept x and y values for the initial position of the rocket. Make sure the default behavior is to position the rocket at (0,0).\n",
    "* Define the move_rocket() method. The method should accept an amount to move (x,y)\n",
    "* Create a Rocket object. Move the rocket around, printing its position after each move.\n",
    "* Create a small fleet of rockets. Move several of them around, and print their final positions to prove that each rocket can move independently of the other rockets.\n",
    "* Define the get_distance() method. The method should accept a Rocket object, and calculate the distance between the current rocket and the rocket that is passed into the method.\n",
    "* Use the get_distance() method to print the distances between several of the rockets in your fleet.\n",
    "\n",
    "#### 2. PART 2 : Applying Inheritance\n",
    "* Define a class SpaceShuttle() which extends class Rocket()\n",
    "* Add more attributes that are particular to space shuttles such as maximum number of flights, capability of supporting spacewalks, and capability of docking with the ISS.\n",
    "* Add a method to the class, that relates to shuttle behavior. This method could simply print a statement, such as \"Docking with the ISS,\" for a dock_ISS() method.\n",
    "* Create a Shuttle object with these attributes, and then call your new method.\n",
    "\n",
    "Hints/Notes :\n",
    "* You can use the Euclidean distance to calculate the distances between different Rocket objects\n",
    "\n",
    "    - Euclidean distance((x, y), (a, b)) = √(x - a)² + (y - b)²\n",
    "\n"
   ]
  },
  {
   "cell_type": "code",
   "execution_count": 86,
   "metadata": {
    "collapsed": false
   },
   "outputs": [],
   "source": [
    "import math\n",
    "# class Rocket:\n",
    "class Rocket(object):\n",
    "    def __init__(self, x=0, y=0):\n",
    "        self.x = x \n",
    "        self.y = y\n",
    "\n",
    "    def getX(self):\n",
    "        return self.x \n",
    "    \n",
    "    def getY(self):\n",
    "        return self.y \n",
    "    \n",
    "    def move_rocket(self, x_new , y_new):  # The method should accept an amount to move (x,y)\n",
    "        self.x += x_new\n",
    "        self.y += y_new\n",
    "        print\"[{}, {}]\".format(self.x, self.y)\n",
    "\n",
    "    def __str__(self): \n",
    "        return \"{} [{}, {}]\".format(self.x, self.y)\n",
    "\n",
    "    def get_distance(self, otherRocket):  # The method should accept a Rocket object, and calculate the distance \n",
    "        # disc_sqrt = math.sqrt(disc)\n",
    "        distance = math.sqrt((self.x - otherRocket.x)** 2 + (self.y - otherRocket.y )** 2)\n",
    "        print\"Distance between rockets ({},{}),({},{}) = [{}]\".format(self.x, self.y, otherRocket.x, otherRocket.y,distance)\n",
    "\n"
   ]
  },
  {
   "cell_type": "code",
   "execution_count": 98,
   "metadata": {
    "collapsed": false
   },
   "outputs": [
    {
     "name": "stdout",
     "output_type": "stream",
     "text": [
      "[5, 5]\n",
      "[3, 7]\n",
      "[6, 20]\n",
      "[9, 10]\n",
      "[12, 8]\n",
      "[10, 23]\n",
      "Distance between rockets (9,10),(12,8) = [3.60555127546]\n",
      "Distance between rockets (9,10),(10,23) = [13.0384048104]\n",
      "Distance between rockets (12,8),(10,23) = [15.1327459504]\n"
     ]
    }
   ],
   "source": [
    "r1 = Rocket()\n",
    "r2 = Rocket()\n",
    "r3 = Rocket()\n",
    "\n",
    "r1.move_rocket(5,5)\n",
    "r2.move_rocket(3,7)\n",
    "r3.move_rocket(6,20)\n",
    "\n",
    "r1.move_rocket(4,5)\n",
    "r2.move_rocket(9,1)\n",
    "r3.move_rocket(4,3)\n",
    "\n",
    "r1.get_distance(r2)\n",
    "r1.get_distance(r3)\n",
    "\n",
    "r2.get_distance(r3)\n",
    "\n",
    "\n"
   ]
  },
  {
   "cell_type": "code",
   "execution_count": 99,
   "metadata": {
    "collapsed": false
   },
   "outputs": [],
   "source": [
    "# maximum number of flights, capability of supporting spacewalks, and capability of docking with the ISS.\n",
    "class SpaceShuttle(Rocket):\n",
    "    def __init__(self, max_flights=0, can_spacewalks=True, can_dockISS=True):\n",
    "        super(SpaceShuttle, self).__init__()\n",
    "        self.max_flights    = max_flights\n",
    "        self.can_spacewalks = can_spacewalks\n",
    "        self.can_dockISS    = can_dockISS\n",
    "        \n",
    "    def dockISS(self):\n",
    "        print(\"Docking with the ISS\")\n",
    "\n"
   ]
  },
  {
   "cell_type": "code",
   "execution_count": 100,
   "metadata": {
    "collapsed": false
   },
   "outputs": [
    {
     "name": "stdout",
     "output_type": "stream",
     "text": [
      "Docking with the ISS\n"
     ]
    }
   ],
   "source": [
    "myshuttle = SpaceShuttle(10,10)\n",
    "\n",
    "myshuttle.dockISS()"
   ]
  },
  {
   "cell_type": "markdown",
   "metadata": {},
   "source": [
    "### Linear Algebra Review\n",
    "\n",
    "Exercise: Read through and review [Stanford's Linear Algebra Review](http://cs229.stanford.edu/section/cs229-linalg.pdf) \n",
    "\n",
    "\n",
    "Exercise : Go through videos : \n",
    "[Chapter 7 ,Chapter 9 , Chapter 10 , Chapter 11](https://www.youtube.com/playlist?list=PLZHQObOWTQDPD3MizzM2xVFitgF8hE_ab) and try to derive the algorithmic complexity of each vector and matrix operation. \n"
   ]
  },
  {
   "cell_type": "code",
   "execution_count": null,
   "metadata": {
    "collapsed": true
   },
   "outputs": [],
   "source": [
    "# DONE - Read through and review Stanford's Linear Algebra Review\n",
    "#\n",
    "# Chapter 7: Dot product\n",
    "#\n",
    "# Chapter 9: Change of Basis\n",
    "#\n",
    "# Chapter 10: Eigenvectors and eigenvalues\n",
    "# \n",
    "# Chapter 11: Abstract Vector spaces\n",
    "\n"
   ]
  }
 ],
 "metadata": {
  "anaconda-cloud": {},
  "kernelspec": {
   "display_name": "Python [conda env:dsi]",
   "language": "python",
   "name": "conda-env-dsi-py"
  },
  "language_info": {
   "codemirror_mode": {
    "name": "ipython",
    "version": 2
   },
   "file_extension": ".py",
   "mimetype": "text/x-python",
   "name": "python",
   "nbconvert_exporter": "python",
   "pygments_lexer": "ipython2",
   "version": "2.7.12"
  }
 },
 "nbformat": 4,
 "nbformat_minor": 1
}
