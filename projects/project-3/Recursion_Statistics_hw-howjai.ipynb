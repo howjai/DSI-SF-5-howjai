{
 "cells": [
  {
   "cell_type": "markdown",
   "metadata": {},
   "source": [
    "\n",
    "\n",
    "# Recursion and Statistics\n",
    "\n",
    "### Enter the Contest!\n",
    "\n",
    "### [Week 3 Hackerrank Contest ](https://www.hackerrank.com/week-3-contest)\n",
    "\n",
    "---\n",
    "\n",
    "### Recursion :\n",
    "\n",
    "#### Review :\n",
    "1. [Recursion - Khan academy](https://www.khanacademy.org/computing/computer-science/algorithms/recursive-algorithms/a/recursion)\n",
    "2. [Intro to Recursion](https://www.youtube.com/watch?v=t4MSwiqfLaY&t=172s)\n",
    "3. [Recursion tutorial](https://www.cs.umd.edu/class/fall2002/cmsc214/Tutorial/recursion.html)\n",
    "4. [Recursive Functions](http://www.python-course.eu/recursive_functions.php)\n",
    "5. [Interactive programming](https://interactivepython.org/runestone/static/pythonds/Recursion/toctree.html)\n",
    "\n",
    "Additional Practice Questions :\n",
    "1. [Longest absolute file](https://leetcode.com/problems/longest-absolute-file-path/?tab=Description) *This requires an account on Leetcode.com\n",
    "\n",
    "2. [Valid Palindrome](https://leetcode.com/problems/valid-palindrome/?tab=Description) * This requires an account on Leetcode.com\n",
    "\n",
    "---\n",
    "\n",
    "\n",
    "### Probability & Statistics :\n",
    "#### Review : \n",
    "\n",
    "1. [Probability](https://github.com/GitPaulM/DSI-SF-2-GitPaulM/blob/master/GA%20Project/%201%20Probability%20-%20Getting%20Started.ipynb)\n",
    "2. [Khan acamedy videos on Stats](https://www.khanacademy.org/math/probability)\n",
    "\n",
    "\n",
    "\n"
   ]
  },
  {
   "cell_type": "code",
   "execution_count": 1,
   "metadata": {
    "collapsed": true
   },
   "outputs": [],
   "source": [
    "import numpy as np\n",
    "import scipy \n",
    "import seaborn as sns\n",
    "import pandas as pd\n",
    "\n",
    "import patsy\n",
    "\n",
    "import matplotlib\n",
    "import matplotlib.pyplot as plt\n",
    "\n",
    "%config InlineBackend.figure_format = 'retina'\n",
    "%matplotlib inline\n",
    "\n",
    "plt.style.use('fivethirtyeight')"
   ]
  },
  {
   "cell_type": "code",
   "execution_count": 8,
   "metadata": {
    "collapsed": false
   },
   "outputs": [
    {
     "name": "stdout",
     "output_type": "stream",
     "text": [
      "0.816496580928\n",
      "\n",
      "0.815889085599\n",
      "0.818057913598\n",
      "0.820243866176\n",
      "0.822446806791\n"
     ]
    }
   ],
   "source": [
    "# Day 1: Standard Deviation Puzzles #1\n",
    "\n",
    "a = np.array([1, 2, 3])\n",
    "print np.std(a)\n",
    "print\n",
    "\n",
    "b = np.array([1, 2, 3, 2.94])\n",
    "print np.std(b)\n",
    "\n",
    "c = np.array([1, 2, 3, 2.95])\n",
    "print np.std(c)\n",
    "\n",
    "d = np.array([1, 2, 3, 2.96])\n",
    "print np.std(d)\n",
    "\n",
    "e = np.array([1, 2, 3, 2.97])\n",
    "print np.std(e)"
   ]
  },
  {
   "cell_type": "code",
   "execution_count": 9,
   "metadata": {
    "collapsed": false
   },
   "outputs": [
    {
     "data": {
      "text/plain": [
       "'\\nObjective\\nIn this challenge, we practice calculating probability.\\n\\nTask\\nIn a single toss of 2 fair (evenly-weighted) 6-sided dice, find the probability of that their sum will be at most  9.\\n\\nOutput Format\\n\\nIn the editor below, submit your answer as Plain Text in the form of an irreducible fraction , \\nwhere and are both integers.\\n\\nYour answer should resemble something like:\\n\\n3/4\\n'"
      ]
     },
     "execution_count": 9,
     "metadata": {},
     "output_type": "execute_result"
    }
   ],
   "source": [
    "# Day 2: Basic Probability Puzzles #1\n",
    "'''\n",
    "Objective\n",
    "In this challenge, we practice calculating probability.\n",
    "\n",
    "Task\n",
    "In a single toss of 2 fair (evenly-weighted) 6-sided dice, find the probability of that their sum will be at most  9.\n",
    "\n",
    "Output Format\n",
    "\n",
    "In the editor below, submit your answer as Plain Text in the form of an irreducible fraction , \n",
    "where and are both integers.\n",
    "\n",
    "Your answer should resemble something like:\n",
    "\n",
    "3/4\n",
    "'''\n",
    "# There are 18 events for sum of 2 dice.\n",
    "# Probability for sum >9 : 3 events: 4,6; 5,6; 6,6; P (sum >9)= 3/18 = 1/6\n",
    "# Probability for sum <= 9: 1 - P(sum>9) = 1 - 1/6 = 5/6\n"
   ]
  },
  {
   "cell_type": "code",
   "execution_count": 1,
   "metadata": {
    "collapsed": false
   },
   "outputs": [
    {
     "data": {
      "text/plain": [
       "'\\nObjective\\nIn this challenge, we practice calculating probability.\\n\\nTask\\nThere are 10 people about to sit down around a round table. Find the probability that 2\\nparticular people will sit next to one another.\\n\\nOutput Format\\n\\nIn the editor below, submit your answer as Plain Text in the form of an irreducible fraction A/B ,\\nwhere A and B are both integers.\\n\\nYour answer should resemble something like:\\n\\n3/4  \\n\\n'"
      ]
     },
     "execution_count": 1,
     "metadata": {},
     "output_type": "execute_result"
    }
   ],
   "source": [
    "# Day 3: Basic Probability Puzzles #5\n",
    "\n",
    "'''\n",
    "Objective\n",
    "In this challenge, we practice calculating probability.\n",
    "\n",
    "Task\n",
    "There are 10 people about to sit down around a round table. Find the probability that 2\n",
    "particular people will sit next to one another.\n",
    "\n",
    "Output Format\n",
    "\n",
    "In the editor below, submit your answer as Plain Text in the form of an irreducible fraction A/B ,\n",
    "where A and B are both integers.\n",
    "\n",
    "Your answer should resemble something like:\n",
    "\n",
    "3/4  \n",
    "\n",
    "'''\n",
    "\n",
    "# for r items combinations in n total items = C = n! / r!(n-r)!\n",
    "# 10!/ 2! (10 - 2)! = 10! / (2! * 8!) = (10 * 9 * 8!) / (2 * 8!) = 90/2 = 45 combinations\n",
    "\n",
    "# if 1 particular person sits down in a 10 person round table, there are 9 spaces left. \n",
    "# There are 2 spaces to sit next to the person.\n",
    "#  The proabilty that 2 particular people will sit next to each other is 1/9 + 1/9 = 2/9\n",
    "\n"
   ]
  },
  {
   "cell_type": "code",
   "execution_count": 2,
   "metadata": {
    "collapsed": false
   },
   "outputs": [
    {
     "name": "stdout",
     "output_type": "stream",
     "text": [
      "2\n",
      "hello world\n",
      "hello world\n"
     ]
    }
   ],
   "source": [
    "N = int(raw_input())\n",
    "for i in xrange(N):\n",
    "    print \"hello world\""
   ]
  },
  {
   "cell_type": "code",
   "execution_count": null,
   "metadata": {
    "collapsed": true
   },
   "outputs": [],
   "source": []
  }
 ],
 "metadata": {
  "anaconda-cloud": {},
  "kernelspec": {
   "display_name": "Python [conda env:dsi]",
   "language": "python",
   "name": "conda-env-dsi-py"
  },
  "language_info": {
   "codemirror_mode": {
    "name": "ipython",
    "version": 2
   },
   "file_extension": ".py",
   "mimetype": "text/x-python",
   "name": "python",
   "nbconvert_exporter": "python",
   "pygments_lexer": "ipython2",
   "version": "2.7.12"
  }
 },
 "nbformat": 4,
 "nbformat_minor": 0
}
