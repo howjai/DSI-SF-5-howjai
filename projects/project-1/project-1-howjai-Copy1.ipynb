{
 "cells": [
  {
   "cell_type": "markdown",
   "metadata": {},
   "source": [
    "<img src=\"http://imgur.com/1ZcRyrc.png\" style=\"float: left; margin: 15px; height: 80px\">\n",
    "\n",
    "# Project 1\n",
    "\n",
    "### Building \"Pokemon Stay\"\n",
    "\n",
    "---\n",
    "\n",
    "After reading the gushing praise for Pokemon Go you decide to download it and try it out for yourself. Yet a couple hours of play later you find yourself disappointed by the fact that you _actually_ have to move around outside.\n",
    "\n",
    "Though just a beginner programmer, you decide to make your own iteration on the genre: \"Pokemon Stay\". In this version players still need to move, but just from website to website. Pokemon gyms are now popular cyber-destinations, and catching pokemon in the \"wild\" simply requires browsing the internet for hours in the comfort of your home. \n",
    "\n",
    "---\n",
    "\n",
    "#### Package imports \n",
    "\n",
    "The `pprint` package below is the only package imported here, and it's not even strictly required to do any of the project. Printing python variables and objects with pprint can help to format them in a \"prettier\" way."
   ]
  },
  {
   "cell_type": "code",
   "execution_count": 2,
   "metadata": {
    "collapsed": true
   },
   "outputs": [],
   "source": [
    "from pprint import pprint"
   ]
  },
  {
   "cell_type": "code",
   "execution_count": 3,
   "metadata": {
    "collapsed": true
   },
   "outputs": [],
   "source": [
    "## project-1-howjai 2/4/17"
   ]
  },
  {
   "cell_type": "markdown",
   "metadata": {},
   "source": [
    "<img src=\"http://imgur.com/l5NasQj.png\" style=\"float: left; margin: 25px 15px 0px 0px; height: 25px\">\n",
    "\n",
    "## 1. Defining a player\n",
    "\n",
    "---\n",
    "\n",
    "The player variables are:\n",
    "\n",
    "    player_id : id code unique to each player (integer)\n",
    "    player_name : entered name of the player (string)\n",
    "    time_played : number of time played the game in minutes (float)\n",
    "    player_pokemon: the player's captured pokemon (dictionary)\n",
    "    gyms_visited: ids of the gyms that a player has visited (list)\n",
    "    \n",
    "Create a player. The dictionary and list variables should just be defined as empty at this point."
   ]
  },
  {
   "cell_type": "code",
   "execution_count": 4,
   "metadata": {
    "collapsed": false
   },
   "outputs": [
    {
     "name": "stdout",
     "output_type": "stream",
     "text": [
      "player_1:  \n",
      "{'gyms_visited': [],\n",
      " 'player_id': 1,\n",
      " 'player_name': 'Ash',\n",
      " 'player_pokemon': {},\n",
      " 'time_played': 0.0}\n",
      "\n"
     ]
    }
   ],
   "source": [
    "# player:  Create a player\n",
    "player_1 = {'player_id' : 1, 'player_name' : 'Ash', 'time_played' : 0.0, 'player_pokemon' : {}, 'gyms_visited' : []}\n",
    "\n",
    "print(\"player_1:  \")\n",
    "pprint(player_1)\n",
    "print\n"
   ]
  },
  {
   "cell_type": "markdown",
   "metadata": {},
   "source": [
    "<img src=\"http://imgur.com/l5NasQj.png\" style=\"float: left; margin: 25px 15px 0px 0px; height: 25px\">\n",
    "\n",
    "## 2. Defining \"gym\" locations\n",
    "\n",
    "---\n",
    "\n",
    "As the sole programmer, Pokemon Stay will have to start small. To begin, there will be 10 different gym location websites on the internet. The gym locations are:\n",
    "\n",
    "    1. 'reddit.com'\n",
    "    2. 'amazon.com'\n",
    "    3. 'twitter.com'\n",
    "    4. 'linkedin.com'\n",
    "    5. 'ebay.com'\n",
    "    6. 'netflix.com'\n",
    "    7. 'udacity.com'\n",
    "    8. 'stackoverflow.com'\n",
    "    9. 'github.com'\n",
    "    10. 'quora.com'\n",
    "\n",
    "1. Set up a list of all the gym locations. This will be a list of strings.\n",
    "2. Append two of these locations to your player's list of visited gyms.\n",
    "3. Print the list."
   ]
  },
  {
   "cell_type": "code",
   "execution_count": 5,
   "metadata": {
    "collapsed": false
   },
   "outputs": [
    {
     "name": "stdout",
     "output_type": "stream",
     "text": [
      "gyms (list of all gym locations):\n",
      "['reddit.com',\n",
      " 'amazon.com',\n",
      " 'twitter.com',\n",
      " 'linkedin.com',\n",
      " 'ebay.com',\n",
      " 'netflix.com',\n",
      " 'udacity.com',\n",
      " 'stackoverflow.com',\n",
      " 'github.com',\n",
      " 'quora.com']\n",
      "\n",
      "player_1's list of visited gyms:\n",
      "['amazon.com', 'ebay.com']\n"
     ]
    }
   ],
   "source": [
    "# Example output:\n",
    "# \n",
    "# ['amazon.com', 'ebay.com']\n",
    "\n",
    "# 1. gyms:  list of all the gym locations. This will be a list of strings.\n",
    "gyms = ['reddit.com', 'amazon.com', 'twitter.com', 'linkedin.com','ebay.com', 'netflix.com', \n",
    "        'udacity.com', 'stackoverflow.com', 'github.com','quora.com']\n",
    "\n",
    "# 2. Append two of these locations to your player's list of visited gyms.\n",
    "player_1[\"gyms_visited\"].append(gyms[1]) # append \"amazon.com\" to gyms_visited\n",
    "player_1[\"gyms_visited\"].append(gyms[4]) # append \"ebay.com\" to gyms_visited\n",
    "\n",
    "# 3. Print the list: gyms (list of all gym locations), player's gym_visited\n",
    "print \"gyms (list of all gym locations):\"\n",
    "pprint(gyms)\n",
    "print\n",
    "print \"player_1's list of visited gyms:\"\n",
    "pprint(player_1[\"gyms_visited\"])\n"
   ]
  },
  {
   "cell_type": "markdown",
   "metadata": {},
   "source": [
    "<img src=\"http://imgur.com/l5NasQj.png\" style=\"float: left; margin: 25px 15px 0px 0px; height: 25px\">\n",
    "\n",
    "## 3. Create a pokedex\n",
    "\n",
    "---\n",
    "\n",
    "We also need to create some pokemon to catch. Each pokemon will be defined by these variables:\n",
    "\n",
    "    pokemon_id : unique identifier for each pokemon (integer)\n",
    "    name : the name of the pokemon (string)\n",
    "    type : the category of pokemon (string)\n",
    "    hp : base hitpoints (integer)\n",
    "    attack : base attack (integer)\n",
    "    defense : base defense (integer)\n",
    "    special_attack : base special attack (integer)\n",
    "    special_defense : base sepecial defense (integer)\n",
    "    speed : base speed (integer)\n",
    "\n",
    "We are only going to create 3 different pokemon with these `pokemon_id` and `pokemon_name` values:\n",
    "\n",
    "    1 : 'charmander'\n",
    "    2 : 'squirtle'\n",
    "    3 : 'bulbasaur'\n",
    "\n",
    "Create a dictionary that will contain the pokemon. The keys of the dictionary will be the `pokemon_id` and the values will themselves dictionaries that contain the other pokemon variables. The structure of the pokedex dictionary will start like so:\n",
    "     \n",
    "     {\n",
    "         1: {\n",
    "                 'name':'charmander',\n",
    "                 'type':'fire',\n",
    "                 ...\n",
    "                 \n",
    "The `type` of charmander, squirtle, and bulbasaur should be `'fire'`, `'water'`, and `'poison'` respectively. The other values are up to you, make them anything you like!\n",
    "\n",
    "Print the pokedex dictionary with the 3 pokemon."
   ]
  },
  {
   "cell_type": "code",
   "execution_count": 6,
   "metadata": {
    "collapsed": false
   },
   "outputs": [
    {
     "name": "stdout",
     "output_type": "stream",
     "text": [
      "pokedex dictionary:\n",
      "{1: {'attack': 10,\n",
      "     'defense': 15,\n",
      "     'hp': 5,\n",
      "     'name': 'charmander',\n",
      "     'special_attack': 20,\n",
      "     'special_defense': 25,\n",
      "     'speed': 30,\n",
      "     'type': 'fire'},\n",
      " 2: {'attack': 15,\n",
      "     'defense': 20,\n",
      "     'hp': 10,\n",
      "     'name': 'squirtle',\n",
      "     'special_attack': 25,\n",
      "     'special_defense': 30,\n",
      "     'speed': 35,\n",
      "     'type': 'water'},\n",
      " 3: {'attack': 20,\n",
      "     'defense': 25,\n",
      "     'hp': 15,\n",
      "     'name': 'bulbasaur',\n",
      "     'special_attack': 30,\n",
      "     'special_defense': 35,\n",
      "     'speed': 40,\n",
      "     'type': 'poison'}}\n"
     ]
    }
   ],
   "source": [
    "# No example output... too similar to the answer!\n",
    "\n",
    "# \"pokedex\":  Create a dictionary that will contain the pokemon. \n",
    "# The keys of the dictionary will be the pokemon_id and the values\n",
    "# will themselves dictionaries that contain the other pokemon variables. \n",
    "pokedex = {1 : {\"name\":\"charmander\", \"type\":\"fire\", \"hp\":5, \"attack\":10, \"defense\":15, \n",
    "                \"special_attack\":20, \"special_defense\":25, \"speed\":30 },\n",
    "           2 : {\"name\":\"squirtle\", \"type\":\"water\", \"hp\":10, \"attack\":15, \"defense\":20, \n",
    "                \"special_attack\":25, \"special_defense\":30, \"speed\":35 }, \n",
    "           3 : {\"name\":\"bulbasaur\", \"type\":\"poison\", \"hp\":15, \"attack\":20, \"defense\":25, \n",
    "                \"special_attack\":30, \"special_defense\":35, \"speed\":40 } }\n",
    "\n",
    "# Print the pokedex dictionary with the 3 pokemon\n",
    "print(\"pokedex dictionary:\")\n",
    "pprint(pokedex)"
   ]
  },
  {
   "cell_type": "markdown",
   "metadata": {},
   "source": [
    "<img src=\"http://imgur.com/l5NasQj.png\" style=\"float: left; margin: 25px 15px 0px 0px; height: 25px\">\n",
    "\n",
    "## 4. Create a data structure for players\n",
    "\n",
    "---\n",
    "\n",
    "### 4.1 \n",
    "\n",
    "In order to maintain a database of multiple players, create a dictionary that keeps track of players indexed by `player_id`. \n",
    "\n",
    "The keys of the dictionary will be `player_id` and values will be dictionaries containing each player's variables (from question 1). **The values in the player's dictionary will be the variables you assigned in question 1.**\n",
    "\n",
    "Construct the `players` dictionary and insert the player that you defined in question 1, then print `players`."
   ]
  },
  {
   "cell_type": "code",
   "execution_count": 7,
   "metadata": {
    "collapsed": false
   },
   "outputs": [
    {
     "name": "stdout",
     "output_type": "stream",
     "text": [
      "players: players dictionary\n",
      "{1: {'gyms_visited': ['amazon.com', 'ebay.com'],\n",
      "     'player_name': 'Ash',\n",
      "     'player_pokemon': {},\n",
      "     'time_played': 0.0}}\n"
     ]
    }
   ],
   "source": [
    "# Example output from print:\n",
    "#\n",
    "# {1: {'gyms_visited': ['amazon.com', 'ebay.com'],\n",
    "#      'player_name': 'Ash',\n",
    "#      'player_pokemon': {},\n",
    "#      'time_played': 0.0}}\n",
    "\n",
    "# players:  players dictionary\n",
    "players = { player_1[\"player_id\"] : {\"player_name\" : player_1[\"player_name\"], \n",
    "                                     \"time_played\" : player_1[\"time_played\"], \n",
    "                                     \"player_pokemon\" : player_1[\"player_pokemon\"], \n",
    "                                     \"gyms_visited\" : player_1[\"gyms_visited\"]}}\n",
    "print(\"players: players dictionary\")\n",
    "pprint(players)"
   ]
  },
  {
   "cell_type": "markdown",
   "metadata": {},
   "source": [
    "---\n",
    "\n",
    "### 4.2\n",
    "\n",
    "Create a new player with `player_id = 2` in the `players` dictionary. Leave the `'player_pokemon'` dictionary empty. Append `'stackoverflow.com'` and `'github.com'` to the `'gyms_visited'` list for player 2.\n",
    "\n",
    "The `'player_name'` and `'time_played'` values are up to you, but must be a string and float, respectively.\n",
    "\n",
    "Remember, the player_id is the key for the player in the players dictionary.\n",
    "\n",
    "Print the `players` dictionary with the new player inserted."
   ]
  },
  {
   "cell_type": "code",
   "execution_count": 8,
   "metadata": {
    "collapsed": false
   },
   "outputs": [
    {
     "name": "stdout",
     "output_type": "stream",
     "text": [
      "player_2:\n",
      "{'gyms_visited': ['stackoverflow.com', 'github.com'],\n",
      " 'player_id': 2,\n",
      " 'player_name': 'Brock',\n",
      " 'player_pokemon': {},\n",
      " 'time_played': 10.0}\n"
     ]
    }
   ],
   "source": [
    "# No example output. \n",
    "\n",
    "# player_2:  Create player with player_id = 2\n",
    "player_2 = {'player_id': 2, 'player_name' : 'Brock', 'time_played' : 10.0, 'player_pokemon' : {}, 'gyms_visited' : []} \n",
    "\n",
    "# 2. Append two of these locations to your player's list of visited gyms.\n",
    "player_2[\"gyms_visited\"].append(gyms[7]) # append \"stackoverflow.com\" to gyms_visited\n",
    "player_2[\"gyms_visited\"].append(gyms[8]) # append \"github.com to gyms_visited\n",
    "\n",
    "print(\"player_2:\")\n",
    "pprint(player_2)\n",
    "\n"
   ]
  },
  {
   "cell_type": "code",
   "execution_count": 9,
   "metadata": {
    "collapsed": false
   },
   "outputs": [
    {
     "name": "stdout",
     "output_type": "stream",
     "text": [
      "players dictionary with the new player inserted:\n",
      "{1: {'gyms_visited': ['amazon.com', 'ebay.com'],\n",
      "     'player_name': 'Ash',\n",
      "     'player_pokemon': {},\n",
      "     'time_played': 0.0},\n",
      " 2: {'gyms_visited': ['stackoverflow.com', 'github.com'],\n",
      "     'player_name': 'Brock',\n",
      "     'player_pokemon': {},\n",
      "     'time_played': 10.0}}\n"
     ]
    }
   ],
   "source": [
    "# players:  players dictionary\n",
    "# Create a new player with player_id = 2 in the players dictionary. \n",
    "players[player_2[\"player_id\"]] = {\"player_name\" : player_2[\"player_name\"], \n",
    "                                    \"time_played\" : player_2[\"time_played\"], \n",
    "                                    \"player_pokemon\" : player_2[\"player_pokemon\"], \n",
    "                                    \"gyms_visited\" : player_2[\"gyms_visited\"]}\n",
    "\n",
    "# Print the players dictionary with the new player inserted.\n",
    "print(\"players dictionary with the new player inserted:\")\n",
    "pprint(players)"
   ]
  },
  {
   "cell_type": "markdown",
   "metadata": {},
   "source": [
    "<img src=\"http://imgur.com/l5NasQj.png\" style=\"float: left; margin: 25px 15px 0px 0px; height: 25px\">\n",
    "\n",
    "## 5. Add captured pokemon for each player\n",
    "\n",
    "---\n",
    "\n",
    "The `'player_pokemon'` keyed dictionaries for each player keep track of which of the pokemon each player has.\n",
    "\n",
    "The keys of the `'player_pokemon'` dictionaries are the pokemon ids that correspond to the ids in the `pokedex` dictionary you created earlier. The values are integers specifying the stats for the pokemon.\n",
    "\n",
    "Give player 1 a squirtle. Give player 2 charmander and a bulbasaur.\n",
    "\n",
    "Print the players dictionary after adding the pokemon for each player.\n"
   ]
  },
  {
   "cell_type": "code",
   "execution_count": 10,
   "metadata": {
    "collapsed": false
   },
   "outputs": [
    {
     "name": "stdout",
     "output_type": "stream",
     "text": [
      "players dictionary (after adding pokemon for each player):\n",
      "{1: {'gyms_visited': ['amazon.com', 'ebay.com'],\n",
      "     'player_name': 'Ash',\n",
      "     'player_pokemon': {2: {'attack': 15,\n",
      "                            'defense': 20,\n",
      "                            'hp': 10,\n",
      "                            'name': 'squirtle',\n",
      "                            'special_attack': 25,\n",
      "                            'special_defense': 30,\n",
      "                            'speed': 35,\n",
      "                            'type': 'water'}},\n",
      "     'time_played': 0.0},\n",
      " 2: {'gyms_visited': ['stackoverflow.com', 'github.com'],\n",
      "     'player_name': 'Brock',\n",
      "     'player_pokemon': {1: {'attack': 10,\n",
      "                            'defense': 15,\n",
      "                            'hp': 5,\n",
      "                            'name': 'charmander',\n",
      "                            'special_attack': 20,\n",
      "                            'special_defense': 25,\n",
      "                            'speed': 30,\n",
      "                            'type': 'fire'},\n",
      "                        3: {'attack': 20,\n",
      "                            'defense': 25,\n",
      "                            'hp': 15,\n",
      "                            'name': 'bulbasaur',\n",
      "                            'special_attack': 30,\n",
      "                            'special_defense': 35,\n",
      "                            'speed': 40,\n",
      "                            'type': 'poison'}},\n",
      "     'time_played': 10.0}}\n"
     ]
    }
   ],
   "source": [
    "# Example output from print:\n",
    "#\n",
    "# {1: {'gyms_visited': ['amazon.com', 'ebay.com'],\n",
    "#      'player_name': 'Ash',\n",
    "#      'player_pokemon': {2: ...squirtle dictionary...},\n",
    "#      'time_played': 0.0},\n",
    "#  2: {'gyms_visited': ['stackoverflow.com', 'github.com'],\n",
    "#      'player_name': 'Brock',\n",
    "#      'player_pokemon': {1: ...charmander dictionary..., 3: ...bulbasaur dictionary...},\n",
    "#      'time_played': 10.0}}\n",
    "\n",
    "# Give player 1 a squirtle (pokedex key: pokemon_id = 2):\n",
    "# Give player 2 a charmander (pokedex key: pokemon_id = 1), bulbasaur (pokedex key:pokemon_id = 3)\n",
    "players[1][\"player_pokemon\"] = {2 : pokedex[2]}\n",
    "players[2][\"player_pokemon\"] = {1 : pokedex[1], 3 : pokedex[3]}\n",
    "\n",
    "print(\"players dictionary (after adding pokemon for each player):\")\n",
    "pprint(players)\n"
   ]
  },
  {
   "cell_type": "markdown",
   "metadata": {},
   "source": [
    "<img src=\"http://imgur.com/l5NasQj.png\" style=\"float: left; margin: 25px 15px 0px 0px; height: 25px\">\n",
    "\n",
    "## 6. What gyms have players visited?\n",
    "\n",
    "---\n",
    "\n",
    "Write a for-loop that:\n",
    "\n",
    "1. Iterates through the `pokemon_gyms` list of gym locations you defined before.\n",
    "2. For each gym, iterate through each player in the `players` dictionary with a second, internal for-loop.\n",
    "3. If the player has visited the gym, print out \"[player] has visited [gym location].\", filling in [player] and [gym location] with the current player's name and current gym location."
   ]
  },
  {
   "cell_type": "code",
   "execution_count": 12,
   "metadata": {
    "collapsed": false
   },
   "outputs": [
    {
     "name": "stdout",
     "output_type": "stream",
     "text": [
      "Ash has visited amazon.com.\n",
      "Ash has visited ebay.com.\n",
      "Brock has visited stackoverflow.com.\n",
      "Brock has visited github.com.\n"
     ]
    }
   ],
   "source": [
    "# Example output:\n",
    "#\n",
    "# Ash has visited amazon.com.\n",
    "# Ash has visited ebay.com.\n",
    "# Ash has visited amazon.com.\n",
    "# Brock has visited stackoverflow.com.\n",
    "# Brock has visited github.com.\n",
    "\n",
    "# Iterate through the pokemon_gyms list of gym locations\n",
    "for gym in gyms:\n",
    "    # For each gym, iterate through each player in the players dictionary \n",
    "    for player in players:\n",
    "        # Check if player has visited gym\n",
    "        if gym in players[player][\"gyms_visited\"]:\n",
    "            # print out \"[player] has visited [gym location].\"\n",
    "            print(players[player][\"player_name\"] + \" has visited \" + gym + \".\")\n",
    "\n",
    "        \n",
    "        \n",
    "        "
   ]
  },
  {
   "cell_type": "markdown",
   "metadata": {},
   "source": [
    "<img src=\"http://imgur.com/l5NasQj.png\" style=\"float: left; margin: 25px 15px 0px 0px; height: 25px\">\n",
    "\n",
    "## 7. Calculate player \"power\".\n",
    "\n",
    "---\n",
    "\n",
    "Define a function that will calculate a player's \"power\". Player power is defined as the sum of the base statistics all of their pokemon.\n",
    "\n",
    "Your function will:\n",
    "\n",
    "1. Accept the `players` dictionary, `pokedex` dictionary, and a player_id as arguments.\n",
    "2. For the specified player_id, look up that player's pokemon and their level(s).\n",
    "3. Find and aggregate the attack and defense values for each of the player's pokemon from the `pokedex` dictionary.\n",
    "4. Print \"[player name]'s power is [player power].\", where the player power is the sum of the base statistics for all of their pokemon.\n",
    "5. Return the player's power value.\n",
    "\n",
    "Print out the pokemon power for each of your players."
   ]
  },
  {
   "cell_type": "code",
   "execution_count": 67,
   "metadata": {
    "collapsed": false
   },
   "outputs": [],
   "source": [
    "# Example output:\n",
    "#\n",
    "# Ash's power is 57.\n",
    "# 57\n",
    "# Brock's power is 119.\n",
    "# 119\n",
    "\n",
    "# Function that will calculate a player's \"power\". \n",
    "# Player power is defined as the sum of the base statistics all of their pokemon.\n",
    "#\n",
    "# get_power(players_dict, pokedex_dict, player_id)\n",
    "#\n",
    "def get_power(players_dict, pokedex_dict, player_id):\n",
    "    player_power = 0  \n",
    "    player_pokemon_dict = players_dict[player_id][\"player_pokemon\"] # Get player's pokemon dict\n",
    "    \n",
    "    # pprint(player_pokemon_dict) # DEBUG\n",
    "    \n",
    "    for p_key in player_pokemon_dict.iterkeys():  # for each pokeman id\n",
    "        pokemon_power = 0\n",
    "        # add up base statistics of pokemon power\n",
    "        pokemon_power = pokedex[p_key][\"attack\"] + \\\n",
    "                        pokedex[p_key][\"defense\"] + \\\n",
    "                        pokedex[p_key][\"hp\"] + \\\n",
    "                        pokedex[p_key][\"special_attack\"] + \\\n",
    "                        pokedex[p_key][\"special_defense\"] + \\\n",
    "                        pokedex[p_key][\"speed\"]\n",
    "        \n",
    "        # print(\"pokeman power: \", pokemon_power)  # DEBUG\n",
    "        \n",
    "        player_power += pokemon_power  # Add pokemon power to player power\n",
    "    \n",
    "    # Print \"[player name]'s power is [player power].\", \n",
    "    # where the player power is the sum of the base statistics for all of their pokemon.\n",
    "    print(players[player_id][\"player_name\"] + \"'s power is \" + str(player_power))\n",
    "    return player_power\n",
    "    \n"
   ]
  },
  {
   "cell_type": "code",
   "execution_count": 68,
   "metadata": {
    "collapsed": false
   },
   "outputs": [
    {
     "name": "stdout",
     "output_type": "stream",
     "text": [
      "Ash's power is 135\n",
      "135\n",
      "\n",
      "Brock's power is 270\n",
      "270\n"
     ]
    }
   ],
   "source": [
    "print(get_power(players, pokedex, 1))\n",
    "print\n",
    "print(get_power(players, pokedex, 2))"
   ]
  },
  {
   "cell_type": "markdown",
   "metadata": {
    "collapsed": true
   },
   "source": [
    "<img src=\"http://imgur.com/GCAf1UX.png\" style=\"float: left; margin: 25px 15px 0px 0px; height: 25px\">\n",
    "\n",
    "## 8. Load a pokedex file containing all the pokemon\n",
    "\n",
    "---\n",
    "\n",
    "### 8.1\n",
    "\n",
    "Now we have access to the raw base stats on all of the pokemon, scraped from the web.\n",
    "\n",
    "The provided code below loads information from a comma separated value (csv) file. You need to parse this string into a more useable format. The format of the string is:\n",
    "\n",
    "- Rows are separated by newline characters: \\n\n",
    "- Columns are separated by commas: ,\n",
    "- All cells in the csv are double quoted. Ex: \"PokedexNumber\" is the first cell of the first row.\n",
    "\n",
    "Using for-loops, create a list of lists where each list within the overall list is a row of the csv/matrix, and each element in that list is a cell in that row. Additional criteria:\n",
    "\n",
    "1. Quotes are removed from each cell item.\n",
    "2. Numeric column values are converted to floats.\n",
    "3. There are some cells that are empty and have no information. For these cells put a -1 value in place.\n",
    "\n",
    "The first three lists in your pokedex list should look like so:\n",
    "\n",
    "    ['PokedexNumber', 'Name', 'Type', 'Total', 'HP', 'Attack', 'Defense', 'SpecialAttack', 'SpecialDefense', 'Speed']\n",
    "    [1.0, 'Bulbasaur', 'GrassPoison', 318.0, 45.0, 49.0, 49.0, 65.0, 65.0, 45.0]\n",
    "    [2.0, 'Ivysaur', 'GrassPoison', 405.0, 60.0, 62.0, 63.0, 80.0, 80.0, 60.0]"
   ]
  },
  {
   "cell_type": "code",
   "execution_count": 70,
   "metadata": {
    "collapsed": false
   },
   "outputs": [
    {
     "data": {
      "text/plain": [
       "u'/Users/howardjai/Desktop/DSI-SF-5/projects/project-1'"
      ]
     },
     "execution_count": 70,
     "metadata": {},
     "output_type": "execute_result"
    }
   ],
   "source": [
    "pwd"
   ]
  },
  {
   "cell_type": "code",
   "execution_count": 71,
   "metadata": {
    "collapsed": false
   },
   "outputs": [],
   "source": [
    "# Code to read in pokedex info\n",
    "raw_pd = ''\n",
    "pokedex_file = '../../datasets/pokemon/pokedex_basic.csv'\n",
    "with open(pokedex_file, 'r') as f:\n",
    "    raw_pd = f.read()\n",
    "    \n",
    "# the pokedex string is assigned to the raw_pd variable"
   ]
  },
  {
   "cell_type": "code",
   "execution_count": 120,
   "metadata": {
    "collapsed": false
   },
   "outputs": [
    {
     "name": "stdout",
     "output_type": "stream",
     "text": [
      "[['PokedexNumber',\n",
      "  'Name',\n",
      "  'Type',\n",
      "  'Total',\n",
      "  'HP',\n",
      "  'Attack',\n",
      "  'Defense',\n",
      "  'SpecialAttack',\n",
      "  'SpecialDefense',\n",
      "  'Speed'],\n",
      " [1.0, 'Bulbasaur', 'GrassPoison', 318.0, 45.0, 49.0, 49.0, 65.0, 65.0, 45.0],\n",
      " [2.0, 'Ivysaur', 'GrassPoison', 405.0, 60.0, 62.0, 63.0, 80.0, 80.0, 60.0]]\n"
     ]
    },
    {
     "data": {
      "text/plain": [
       "802"
      ]
     },
     "execution_count": 120,
     "metadata": {},
     "output_type": "execute_result"
    }
   ],
   "source": [
    "# create pokedex_list\n",
    "pokedex_list = []\n",
    "raw_pd_list = raw_pd.split(\"\\n\")   # split the pokedex string into rows (Rows are separated by newline character)\n",
    "for row in raw_pd_list:            # for each row in raw_pd_list\n",
    "    row = row.replace('\"',\"\")     # remove double quotes from each row\n",
    "    \n",
    "    clean_row = []\n",
    "    for cell in row.split(\",\"):   # split row into cells\n",
    "        if cell == \"\":            # For empty cells put a -1 value in place.\n",
    "            clean_row.append(-1)\n",
    "        else:\n",
    "            try:\n",
    "                clean_row.append(float(cell))  # Numeric column values are converted to floats\n",
    "            except:\n",
    "                clean_row.append(cell)         # cell is not modified\n",
    "      \n",
    "    pokedex_list.append(clean_row)    \n",
    "\n",
    "pprint(pokedex_list[0:3])\n",
    "len(pokedex_list)\n"
   ]
  },
  {
   "cell_type": "code",
   "execution_count": 121,
   "metadata": {
    "collapsed": false
   },
   "outputs": [
    {
     "name": "stdout",
     "output_type": "stream",
     "text": [
      "[['PokedexNumber',\n",
      "  'Name',\n",
      "  'Type',\n",
      "  'Total',\n",
      "  'HP',\n",
      "  'Attack',\n",
      "  'Defense',\n",
      "  'SpecialAttack',\n",
      "  'SpecialDefense',\n",
      "  'Speed'],\n",
      " [1.0, 'Bulbasaur', 'GrassPoison', 318.0, 45.0, 49.0, 49.0, 65.0, 65.0, 45.0],\n",
      " [2.0, 'Ivysaur', 'GrassPoison', 405.0, 60.0, 62.0, 63.0, 80.0, 80.0, 60.0]]\n"
     ]
    },
    {
     "data": {
      "text/plain": [
       "802"
      ]
     },
     "execution_count": 121,
     "metadata": {},
     "output_type": "execute_result"
    }
   ],
   "source": [
    "# Example output (first 3 sublists):\n",
    "#\n",
    "# ['PokedexNumber', 'Name', 'Type', 'Total', 'HP', 'Attack', 'Defense', 'SpecialAttack', 'SpecialDefense', 'Speed']\n",
    "# [1.0, 'Bulbasaur', 'GrassPoison', 318.0, 45.0, 49.0, 49.0, 65.0, 65.0, 45.0]\n",
    "# [2.0, 'Ivysaur', 'GrassPoison', 405.0, 60.0, 62.0, 63.0, 80.0, 80.0, 60.0]\n",
    "\n",
    "pprint(pokedex_list[0:3])\n",
    "len(pokedex_list)"
   ]
  },
  {
   "cell_type": "markdown",
   "metadata": {},
   "source": [
    "<img src=\"http://imgur.com/gGrau8s.png\" style=\"float: left; margin: 25px 15px 0px 0px; height: 25px\">\n",
    "\n",
    "### 8.2 Parse the raw pokedex with list comprehensions\n",
    "\n",
    "---\n",
    "\n",
    "Perform the same parsing as above, but **using only a single list comprehension** instead of for loops. You may have nested list comprehensions within the main list comprehension! The output should be exactly the same."
   ]
  },
  {
   "cell_type": "code",
   "execution_count": 122,
   "metadata": {
    "collapsed": false
   },
   "outputs": [
    {
     "name": "stdout",
     "output_type": "stream",
     "text": [
      "[['PokedexNumber',\n",
      "  'Name',\n",
      "  'Type',\n",
      "  'Total',\n",
      "  'HP',\n",
      "  'Attack',\n",
      "  'Defense',\n",
      "  'SpecialAttack',\n",
      "  'SpecialDefense',\n",
      "  'Speed'],\n",
      " [1.0, 'Bulbasaur', 'GrassPoison', 318.0, 45.0, 49.0, 49.0, 65.0, 65.0, 45.0],\n",
      " [2.0, 'Ivysaur', 'GrassPoison', 405.0, 60.0, 62.0, 63.0, 80.0, 80.0, 60.0]]\n"
     ]
    },
    {
     "data": {
      "text/plain": [
       "802"
      ]
     },
     "execution_count": 122,
     "metadata": {},
     "output_type": "execute_result"
    }
   ],
   "source": [
    "# Example output (first 3 sublists):\n",
    "#\n",
    "# ['PokedexNumber', 'Name', 'Type', 'Total', 'HP', 'Attack', 'Defense', 'SpecialAttack', 'SpecialDefense', 'Speed']\n",
    "# [1.0, 'Bulbasaur', 'GrassPoison', 318.0, 45.0, 49.0, 49.0, 65.0, 65.0, 45.0]\n",
    "# [2.0, 'Ivysaur', 'GrassPoison', 405.0, 60.0, 62.0, 63.0, 80.0, 80.0, 60.0]\n",
    "\n",
    "# create pokedex_list\n",
    "\n",
    "# function to clean cell:  -1 if empty; Numerice to float\n",
    "def clean_cell(cell_value):\n",
    "    if cell_value == \"\":          # For empty cells put a -1 value in place.\n",
    "        return(-1)\n",
    "    else:\n",
    "        try:\n",
    "            return float(cell_value)   # Numeric column values are converted to floats\n",
    "        except:\n",
    "            return cell_value         # cell is not modified\n",
    "    \n",
    "pokedex_list_2 = []\n",
    "raw_pd_list_2 = raw_pd.split(\"\\n\")   # split the pokedex string into rows (Rows are separated by newline character)\n",
    "for row in raw_pd_list_2:            # for each row in raw_pd_list\n",
    "    row = row.replace('\"',\"\")        # remove double quotes from each row\n",
    "    \n",
    "    clean_row = [clean_cell(cell) for cell in row.split(\",\")]  # Single List comprehension to clean rows\n",
    "\n",
    "    pokedex_list_2.append(clean_row)    \n",
    "\n",
    "pprint(pokedex_list_2[0:3])\n",
    "len(pokedex_list_2)\n"
   ]
  },
  {
   "cell_type": "markdown",
   "metadata": {},
   "source": [
    "<img src=\"http://imgur.com/GCAf1UX.png\" style=\"float: left; margin: 25px 15px 0px 0px; height: 25px\">\n",
    "\n",
    "## 9. Write a function to generate the full pokedex\n",
    "\n",
    "---\n",
    "\n",
    "Write a function that recreates the pokedex you made before, but with the data read in from the full pokemon file. The `PokedexNumber` should be used as the `pokemon_id` key values for the dictionary of pokemon.\n",
    "\n",
    "Your function should:\n",
    "\n",
    "1. Take the parsed pokedex information you created above as an argument.\n",
    "2. Return a dictionary in the same format as your original pokedex you created before containing the information from the parsed full pokedex file.\n",
    "\n",
    "To test the function, print out the pokemon with id = 100."
   ]
  },
  {
   "cell_type": "code",
   "execution_count": 157,
   "metadata": {
    "collapsed": false
   },
   "outputs": [
    {
     "name": "stdout",
     "output_type": "stream",
     "text": [
      "721\n",
      "\n",
      "pokemon with id = 100\n",
      "{'Attack': 30.0,\n",
      " 'Defense': 50.0,\n",
      " 'HP': 40.0,\n",
      " 'Name': 'Voltorb',\n",
      " 'PokedexNumber': 100.0,\n",
      " 'SpecialAttack': 55.0,\n",
      " 'SpecialDefense': 55.0,\n",
      " 'Speed': 100.0,\n",
      " 'Total': 330.0,\n",
      " 'Type': 'Electric'}\n"
     ]
    }
   ],
   "source": [
    "# Example output:\n",
    "#\n",
    "# {'Attack': 30.0,\n",
    "#  'Defense': 50.0,\n",
    "#  'HP': 40.0,\n",
    "#  'Name': 'Voltorb',\n",
    "#  'SpecialAttack': 55.0,\n",
    "#  'SpecialDefense': 55.0,\n",
    "#  'Speed': 100.0,\n",
    "#  'Total': 330.0,\n",
    "#  'Type': 'Electric'}\n",
    "\n",
    "def generate_pokedex(parsed_pokedex):\n",
    "    full_pokedex = {} \n",
    "    header_row = parsed_pokedex[0]    # header row is 1st row\n",
    "    data_rows  = parsed_pokedex[1:]   # data rows are from 2nd row\n",
    "    # generate pokemon dict for each row\n",
    "    for row in data_rows[:-1]:\n",
    "        pokemon_dict = {}\n",
    "        for index, item in enumerate(header_row):\n",
    "            pokemon_dict[item] = row[index]\n",
    "        full_pokedex[row[0]] = pokemon_dict\n",
    "    return full_pokedex\n",
    "\n",
    "\n",
    "\n",
    "full_pokedex = generate_pokedex(pokedex_list_2)\n",
    "print(len(full_pokedex))    # size of full pokedex\n",
    "print\n",
    "print(\"pokemon with id = 100\")\n",
    "pprint(full_pokedex[100])   # pokemon with id = 100\n"
   ]
  },
  {
   "cell_type": "markdown",
   "metadata": {},
   "source": [
    "<img src=\"http://imgur.com/GCAf1UX.png\" style=\"float: left; margin: 25px 15px 0px 0px; height: 25px\">\n",
    "\n",
    "## 10. Write a function to generate a \"filtered\" pokedex\n",
    "---\n",
    "Your function should:\n",
    "1. Take the parsed pokedex information you created above as an argument.\n",
    "1. Take a dictionary as a parameter with keys matching the features of the Pokedex, filtering by exact match for string type values, and/or filter continuous variables specified value that is greater than or equal to the dictionary key parameter.\n",
    "1. Return multiple elements from the Pokedex\n",
    "\n",
    "Example:\n",
    "\n",
    "```python\n",
    "\n",
    "# Only filter based on parameters passed\n",
    "filter_options = {\n",
    "    'Attack':   25,\n",
    "    'Defense':  30,\n",
    "    'Type':     'Electric'\n",
    "}\n",
    "\n",
    "# Return records with attack >= 24, defense >= 30, and type == \"Electric\"\n",
    "# Also anticipate that other paramters can also be passed such as \"SpecialAttack\", \"Speed\", etc.\n",
    "filtered_pokedex(pokedex_data, filter=filter_options)\n",
    "\n",
    "# Example output:\n",
    "# [{'Attack': 30.0,\n",
    "#  'Defense': 50.0,\n",
    "#  'HP': 40.0,\n",
    "#  'Name': 'Voltorb',\n",
    "#  'SpecialAttack': 55.0,\n",
    "#  'SpecialDefense': 55.0,\n",
    "#  'Speed': 100.0,\n",
    "#  'Total': 330.0,\n",
    "#  'Type': 'Electric'},\n",
    "#  {'Attack': 30.0,\n",
    "#  'Defense': 33.0,\n",
    "#  'HP': 32.0,\n",
    "#  'Name': 'Pikachu',\n",
    "#  'SpecialAttack': 55.0,\n",
    "#  'SpecialDefense': 55.0,\n",
    "#  'Speed': 100.0,\n",
    "#  'Total': 330.0,\n",
    "#  'Type': 'Electric'},\n",
    "#  ... etc\n",
    "#  ]\n",
    "\n",
    "```\n",
    "\n"
   ]
  },
  {
   "cell_type": "code",
   "execution_count": null,
   "metadata": {
    "collapsed": true
   },
   "outputs": [],
   "source": []
  }
 ],
 "metadata": {
  "anaconda-cloud": {},
  "kernelspec": {
   "display_name": "Python [default]",
   "language": "python",
   "name": "python2"
  },
  "language_info": {
   "codemirror_mode": {
    "name": "ipython",
    "version": 2
   },
   "file_extension": ".py",
   "mimetype": "text/x-python",
   "name": "python",
   "nbconvert_exporter": "python",
   "pygments_lexer": "ipython2",
   "version": "2.7.12"
  }
 },
 "nbformat": 4,
 "nbformat_minor": 0
}
